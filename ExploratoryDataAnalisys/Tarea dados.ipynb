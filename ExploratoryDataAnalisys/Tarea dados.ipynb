{
 "cells": [
  {
   "cell_type": "markdown",
   "id": "d1d7f001-a6c6-4a6c-9945-eb222d3f7801",
   "metadata": {},
   "source": [
    "Sergio Adrian Martínez Tena"
   ]
  },
  {
   "cell_type": "markdown",
   "id": "ac7f3642-a7e9-452f-b432-4b5d466ba7ee",
   "metadata": {},
   "source": [
    "Obtener la ecuación (o programa) que exprese la probabilidad de obtener el macroestado E a partir de N dados."
   ]
  },
  {
   "cell_type": "markdown",
   "id": "33e9ff5a-08cb-4974-9b65-d6ce1664e587",
   "metadata": {},
   "source": [
    "**Se importan las librerias necesarias**"
   ]
  },
  {
   "cell_type": "code",
   "execution_count": 1,
   "id": "896deadd-9d8c-465b-9714-208335090935",
   "metadata": {
    "execution": {
     "iopub.execute_input": "2022-05-06T01:01:17.528019Z",
     "iopub.status.busy": "2022-05-06T01:01:17.527707Z",
     "iopub.status.idle": "2022-05-06T01:01:18.001219Z",
     "shell.execute_reply": "2022-05-06T01:01:18.000981Z",
     "shell.execute_reply.started": "2022-05-06T01:01:17.527994Z"
    },
    "tags": []
   },
   "outputs": [],
   "source": [
    "from matplotlib import pyplot as plt\n",
    "import numpy as np"
   ]
  },
  {
   "cell_type": "markdown",
   "id": "7a913915-b253-4cb8-8706-01db37cf1728",
   "metadata": {},
   "source": [
    "**Funciones necesarias para calcular los microestados y macroestados**"
   ]
  },
  {
   "cell_type": "code",
   "execution_count": 2,
   "id": "fa98b9e6-3380-430d-9cb5-fdd4f10e3fee",
   "metadata": {
    "execution": {
     "iopub.execute_input": "2022-05-06T01:01:18.226501Z",
     "iopub.status.busy": "2022-05-06T01:01:18.226043Z",
     "iopub.status.idle": "2022-05-06T01:01:18.276626Z",
     "shell.execute_reply": "2022-05-06T01:01:18.276193Z",
     "shell.execute_reply.started": "2022-05-06T01:01:18.226458Z"
    },
    "tags": []
   },
   "outputs": [],
   "source": [
    "def microStates(n: 'Numero de intentos', *, states: 'Estados posibles'):\n",
    "    # Si el numero de intentos es 0 retorna una lista vacia\n",
    "    if n == 0:\n",
    "        return []\n",
    "    # Si n es 1 el numero de posibles estados son los estados posibles\n",
    "    elif n == 1:\n",
    "        return states\n",
    "    # Si n > 1 se realiza el calculo con recursion\n",
    "    else:\n",
    "        return [[j,*i] for j in states for i in microStates(n-1, states=states)]\n",
    "    \n",
    "def macroStates(n: 'Numero de intentos', *, states: 'Estados posibles'):\n",
    "    # Se obtienen los microestados posibles a partir de los estados posibles\n",
    "    states = microStates(n, states=states)\n",
    "    # Diccionario para almacenar los macroestados\n",
    "    macrostates = dict()\n",
    "    # Por cada uno de los microestados posibles se ordenan segun el macroestado\n",
    "    for state in states:\n",
    "        # Se obtiene el macro estado\n",
    "        macrostate = sum(int(value) for value in state)\n",
    "        # Si el macroestado se encuentra en el diccionario agrega uno al conteo\n",
    "        # Si el macroestado no se encuenta lo inicializa y agrega uno al conteo\n",
    "        if macrostate in macrostates:\n",
    "            macrostates[macrostate] += 1\n",
    "        else:\n",
    "            macrostates[macrostate] = 1\n",
    "    return macrostates"
   ]
  },
  {
   "cell_type": "code",
   "execution_count": 19,
   "id": "6103a14f-725d-4f3e-8ca3-af2fa765089f",
   "metadata": {
    "execution": {
     "iopub.execute_input": "2022-05-06T02:05:02.395343Z",
     "iopub.status.busy": "2022-05-06T02:05:02.394875Z",
     "iopub.status.idle": "2022-05-06T02:05:02.403877Z",
     "shell.execute_reply": "2022-05-06T02:05:02.403043Z",
     "shell.execute_reply.started": "2022-05-06T02:05:02.395300Z"
    },
    "tags": []
   },
   "outputs": [
    {
     "data": {
      "text/plain": [
       "[['1', '5'],\n",
       " ['2', '5'],\n",
       " ['3', '5'],\n",
       " ['4', '5'],\n",
       " ['5', '1'],\n",
       " ['5', '2'],\n",
       " ['5', '3'],\n",
       " ['5', '4'],\n",
       " ['5', '5'],\n",
       " ['5', '6'],\n",
       " ['6', '5']]"
      ]
     },
     "execution_count": 19,
     "metadata": {},
     "output_type": "execute_result"
    }
   ],
   "source": [
    "states = microStates(n=2, states=['1','2','3','4','5','6'])\n",
    "result = []\n",
    "for state in states:\n",
    "    if '5' in state:\n",
    "        result.append(state)\n",
    "result"
   ]
  },
  {
   "cell_type": "code",
   "execution_count": 22,
   "id": "61187cf0-cf65-460e-875c-54c15acd399a",
   "metadata": {
    "execution": {
     "iopub.execute_input": "2022-05-06T02:07:10.960258Z",
     "iopub.status.busy": "2022-05-06T02:07:10.959779Z",
     "iopub.status.idle": "2022-05-06T02:07:10.966948Z",
     "shell.execute_reply": "2022-05-06T02:07:10.966174Z",
     "shell.execute_reply.started": "2022-05-06T02:07:10.960213Z"
    },
    "tags": []
   },
   "outputs": [
    {
     "data": {
      "text/plain": [
       "274.6775"
      ]
     },
     "execution_count": 22,
     "metadata": {},
     "output_type": "execute_result"
    }
   ],
   "source": [
    "281*(1-0.0225)"
   ]
  },
  {
   "cell_type": "markdown",
   "id": "972ce877-74b8-43ae-a86f-971e1dbf0a35",
   "metadata": {},
   "source": [
    "**Función para obtener la distribució total según el número de dados**"
   ]
  },
  {
   "cell_type": "code",
   "execution_count": 3,
   "id": "65b2f1f2-0a2d-4566-8ff0-d4b4fd7cce35",
   "metadata": {
    "execution": {
     "iopub.execute_input": "2022-05-06T01:01:19.370655Z",
     "iopub.status.busy": "2022-05-06T01:01:19.370171Z",
     "iopub.status.idle": "2022-05-06T01:01:19.380045Z",
     "shell.execute_reply": "2022-05-06T01:01:19.379335Z",
     "shell.execute_reply.started": "2022-05-06T01:01:19.370610Z"
    },
    "tags": []
   },
   "outputs": [],
   "source": [
    "def distribution(n, *, states=['1','2','3','4','5','6']):\n",
    "    # Areglo de eventos donde n es el mas pequeñoy 6n es el mas grande\n",
    "    events = np.arange(n*int(states[0]),n*int(states[-1])+1)\n",
    "    # Calcula la probailidad para cada uno de los eventos\n",
    "    p = []\n",
    "    for event in events:\n",
    "        p.append(probEvent(event=event, n=n, states=states))\n",
    "    # Grafica el histograma de probabilidades\n",
    "    plt.figure(figsize=(14,8))\n",
    "    plt.bar(x=events,height=p);\n",
    "    plt.xticks(events);\n",
    "    plt.xlabel('Events',fontdict={'size':16})\n",
    "    plt.ylabel('Probability', fontdict={'size':16})\n",
    "    plt.grid(True)\n",
    "    return p"
   ]
  },
  {
   "cell_type": "markdown",
   "id": "cebfb5d3-de93-491a-9a9c-aeb706105c67",
   "metadata": {},
   "source": [
    "**Función para calculas la probabilidad de un evento**"
   ]
  },
  {
   "cell_type": "code",
   "execution_count": 4,
   "id": "5ae775b4-7ae0-4282-8509-e8275ddec163",
   "metadata": {
    "execution": {
     "iopub.execute_input": "2022-05-06T01:01:20.848081Z",
     "iopub.status.busy": "2022-05-06T01:01:20.847613Z",
     "iopub.status.idle": "2022-05-06T01:01:20.854284Z",
     "shell.execute_reply": "2022-05-06T01:01:20.853381Z",
     "shell.execute_reply.started": "2022-05-06T01:01:20.848038Z"
    },
    "tags": []
   },
   "outputs": [],
   "source": [
    "def probEvent(event, *, n=1, states=['1','2','3','4','5','6']):\n",
    "    # Obtiene los macroestados o espacio de eventos posibles\n",
    "    macrostates = macroStates(n,states=states)\n",
    "    # Se obtiene el tamaño del espacio muestral\n",
    "    sampleSpace = sum(macrostates.values())\n",
    "    # Se verifica si el evento pertenece a los eventos posibles\n",
    "    if event in macrostates:\n",
    "        return macrostates[event]/sampleSpace\n",
    "    else:\n",
    "        return 0"
   ]
  },
  {
   "cell_type": "markdown",
   "id": "1be366f3-831d-4e2e-b7f0-17d5d0d3e830",
   "metadata": {},
   "source": [
    "**Ejemplos:**"
   ]
  },
  {
   "cell_type": "markdown",
   "id": "44f4a029-0431-4c2b-ba50-53180b7d7b1f",
   "metadata": {},
   "source": [
    "***Calcular la probabilidad de que:***"
   ]
  },
  {
   "cell_type": "markdown",
   "id": "697b78b6-f77e-42cd-8ed6-1e0a0ee72bc8",
   "metadata": {},
   "source": [
    "Al tirar 2 dados la suma sea 7"
   ]
  },
  {
   "cell_type": "code",
   "execution_count": 11,
   "id": "ca9bb04f-16db-4863-a3c3-a3fa35cc6324",
   "metadata": {
    "execution": {
     "iopub.execute_input": "2022-03-17T18:07:05.384064Z",
     "iopub.status.busy": "2022-03-17T18:07:05.383804Z",
     "iopub.status.idle": "2022-03-17T18:07:05.388319Z",
     "shell.execute_reply": "2022-03-17T18:07:05.387590Z",
     "shell.execute_reply.started": "2022-03-17T18:07:05.384041Z"
    },
    "tags": []
   },
   "outputs": [
    {
     "data": {
      "text/plain": [
       "0.16666666666666666"
      ]
     },
     "execution_count": 11,
     "metadata": {},
     "output_type": "execute_result"
    }
   ],
   "source": [
    "probEvent(event=,n=2)"
   ]
  },
  {
   "cell_type": "markdown",
   "id": "919070be-b87b-4885-b012-6db84ee07420",
   "metadata": {},
   "source": [
    "Al tirar 3 dados la suma sea 12"
   ]
  },
  {
   "cell_type": "code",
   "execution_count": 12,
   "id": "d0d0b617-c176-4626-9acb-89902fad2482",
   "metadata": {
    "execution": {
     "iopub.execute_input": "2022-03-17T18:07:05.858894Z",
     "iopub.status.busy": "2022-03-17T18:07:05.858537Z",
     "iopub.status.idle": "2022-03-17T18:07:05.865107Z",
     "shell.execute_reply": "2022-03-17T18:07:05.864204Z",
     "shell.execute_reply.started": "2022-03-17T18:07:05.858860Z"
    },
    "tags": []
   },
   "outputs": [
    {
     "data": {
      "text/plain": [
       "0.11574074074074074"
      ]
     },
     "execution_count": 12,
     "metadata": {},
     "output_type": "execute_result"
    }
   ],
   "source": [
    "probEvent(event=12,n=3)"
   ]
  },
  {
   "cell_type": "markdown",
   "id": "1a3cbef3-d560-47e7-986c-88d80bce980c",
   "metadata": {
    "execution": {
     "iopub.execute_input": "2022-03-07T01:16:58.173832Z",
     "iopub.status.busy": "2022-03-07T01:16:58.173371Z",
     "iopub.status.idle": "2022-03-07T01:16:58.179696Z",
     "shell.execute_reply": "2022-03-07T01:16:58.178933Z",
     "shell.execute_reply.started": "2022-03-07T01:16:58.173790Z"
    }
   },
   "source": [
    "Al tirar 5 dados la suma sea 20"
   ]
  },
  {
   "cell_type": "code",
   "execution_count": 13,
   "id": "a666ed9b-b3f0-4e72-aed9-2b0011fc4e73",
   "metadata": {
    "execution": {
     "iopub.execute_input": "2022-03-17T18:07:06.302209Z",
     "iopub.status.busy": "2022-03-17T18:07:06.301556Z",
     "iopub.status.idle": "2022-03-17T18:07:06.360251Z",
     "shell.execute_reply": "2022-03-17T18:07:06.359872Z",
     "shell.execute_reply.started": "2022-03-17T18:07:06.302148Z"
    },
    "tags": []
   },
   "outputs": [
    {
     "data": {
      "text/plain": [
       "0.08371913580246913"
      ]
     },
     "execution_count": 13,
     "metadata": {},
     "output_type": "execute_result"
    }
   ],
   "source": [
    "probEvent(event=20,n=5)"
   ]
  },
  {
   "cell_type": "markdown",
   "id": "66eabbba-a5fe-4309-bfbf-39997a565f28",
   "metadata": {},
   "source": [
    "***Distribución de probabilidades con 2, 3, 4, 5 y 6 dados.***"
   ]
  },
  {
   "cell_type": "code",
   "execution_count": 24,
   "id": "094e2ad9-139c-4707-9b35-c81336e56eac",
   "metadata": {
    "execution": {
     "iopub.execute_input": "2022-03-17T18:49:57.514576Z",
     "iopub.status.busy": "2022-03-17T18:49:57.514095Z",
     "iopub.status.idle": "2022-03-17T18:49:57.613296Z",
     "shell.execute_reply": "2022-03-17T18:49:57.612839Z",
     "shell.execute_reply.started": "2022-03-17T18:49:57.514531Z"
    },
    "tags": []
   },
   "outputs": [
    {
     "data": {
      "image/png": "[encoded data removed]",
      "text/plain": [
       "<Figure size 1008x576 with 1 Axes>"
      ]
     },
     "metadata": {
      "needs_background": "light"
     },
     "output_type": "display_data"
    }
   ],
   "source": [
    "distribution(n=1);"
   ]
  },
  {
   "cell_type": "code",
   "execution_count": 23,
   "id": "ca761cd5-614f-442f-8177-718693a195d9",
   "metadata": {
    "execution": {
     "iopub.execute_input": "2022-03-17T18:49:46.292958Z",
     "iopub.status.busy": "2022-03-17T18:49:46.292457Z",
     "iopub.status.idle": "2022-03-17T18:49:46.399497Z",
     "shell.execute_reply": "2022-03-17T18:49:46.399080Z",
     "shell.execute_reply.started": "2022-03-17T18:49:46.292913Z"
    }
   },
   "outputs": [
    {
     "data": {
      "image/png": "[encoded data removed]",
      "text/plain": [
       "<Figure size 1008x576 with 1 Axes>"
      ]
     },
     "metadata": {
      "needs_background": "light"
     },
     "output_type": "display_data"
    }
   ],
   "source": [
    "distribution(n=2);"
   ]
  },
  {
   "cell_type": "code",
   "execution_count": 15,
   "id": "e583c43c-60dc-4622-a315-60f25ba9538b",
   "metadata": {
    "execution": {
     "iopub.execute_input": "2022-03-17T18:07:10.316897Z",
     "iopub.status.busy": "2022-03-17T18:07:10.316508Z",
     "iopub.status.idle": "2022-03-17T18:07:10.428229Z",
     "shell.execute_reply": "2022-03-17T18:07:10.427903Z",
     "shell.execute_reply.started": "2022-03-17T18:07:10.316858Z"
    },
    "tags": []
   },
   "outputs": [
    {
     "data": {
      "image/png": "[encoded data removed]",
      "text/plain": [
       "<Figure size 1008x576 with 1 Axes>"
      ]
     },
     "metadata": {
      "needs_background": "light"
     },
     "output_type": "display_data"
    }
   ],
   "source": [
    "distribution(n=3);"
   ]
  },
  {
   "cell_type": "code",
   "execution_count": 17,
   "id": "bba13f62-bc58-416f-ab12-79b9115b32d5",
   "metadata": {
    "execution": {
     "iopub.execute_input": "2022-03-17T18:07:13.534083Z",
     "iopub.status.busy": "2022-03-17T18:07:13.533759Z",
     "iopub.status.idle": "2022-03-17T18:07:13.684106Z",
     "shell.execute_reply": "2022-03-17T18:07:13.683726Z",
     "shell.execute_reply.started": "2022-03-17T18:07:13.534055Z"
    },
    "tags": []
   },
   "outputs": [
    {
     "data": {
      "image/png": "[encoded data removed]",
      "text/plain": [
       "<Figure size 1008x576 with 1 Axes>"
      ]
     },
     "metadata": {
      "needs_background": "light"
     },
     "output_type": "display_data"
    }
   ],
   "source": [
    "distribution(n=4);"
   ]
  },
  {
   "cell_type": "code",
   "execution_count": 19,
   "id": "1c530f29-8a7f-4470-b4ab-5c935d7632a8",
   "metadata": {
    "execution": {
     "iopub.execute_input": "2022-03-17T18:07:16.418634Z",
     "iopub.status.busy": "2022-03-17T18:07:16.418369Z",
     "iopub.status.idle": "2022-03-17T18:07:16.769759Z",
     "shell.execute_reply": "2022-03-17T18:07:16.769509Z",
     "shell.execute_reply.started": "2022-03-17T18:07:16.418608Z"
    },
    "tags": []
   },
   "outputs": [
    {
     "data": {
      "image/png": "[encoded data removed]",
      "text/plain": [
       "<Figure size 1008x576 with 1 Axes>"
      ]
     },
     "metadata": {
      "needs_background": "light"
     },
     "output_type": "display_data"
    }
   ],
   "source": [
    "distribution(n=5);"
   ]
  },
  {
   "cell_type": "code",
   "execution_count": 20,
   "id": "17627877-2791-45b6-b77a-9d40f3d5f5f5",
   "metadata": {
    "execution": {
     "iopub.execute_input": "2022-03-17T18:07:19.297312Z",
     "iopub.status.busy": "2022-03-17T18:07:19.297042Z",
     "iopub.status.idle": "2022-03-17T18:07:21.572282Z",
     "shell.execute_reply": "2022-03-17T18:07:21.572048Z",
     "shell.execute_reply.started": "2022-03-17T18:07:19.297285Z"
    },
    "tags": []
   },
   "outputs": [
    {
     "data": {
      "image/png": "[encoded data removed]",
      "text/plain": [
       "<Figure size 1008x576 with 1 Axes>"
      ]
     },
     "metadata": {
      "needs_background": "light"
     },
     "output_type": "display_data"
    }
   ],
   "source": [
    "distribution(n=6);"
   ]
  },
  {
   "cell_type": "code",
   "execution_count": 21,
   "id": "6b421ef9-f0ea-4982-9f4d-179f84acff4a",
   "metadata": {
    "execution": {
     "iopub.execute_input": "2022-03-17T18:45:44.315719Z",
     "iopub.status.busy": "2022-03-17T18:45:44.314161Z",
     "iopub.status.idle": "2022-03-17T18:46:05.825121Z",
     "shell.execute_reply": "2022-03-17T18:46:05.824870Z",
     "shell.execute_reply.started": "2022-03-17T18:45:44.315649Z"
    }
   },
   "outputs": [
    {
     "data": {
      "image/png": "[encoded data removed]",
      "text/plain": [
       "<Figure size 1008x576 with 1 Axes>"
      ]
     },
     "metadata": {
      "needs_background": "light"
     },
     "output_type": "display_data"
    }
   ],
   "source": [
    "distribution(n=7);"
   ]
  },
  {
   "cell_type": "code",
   "execution_count": 22,
   "id": "cb78faf6-abfa-4392-8edf-93da3f04a096",
   "metadata": {
    "execution": {
     "iopub.execute_input": "2022-03-17T18:46:16.546718Z",
     "iopub.status.busy": "2022-03-17T18:46:16.546221Z",
     "iopub.status.idle": "2022-03-17T18:49:18.939045Z",
     "shell.execute_reply": "2022-03-17T18:49:18.938718Z",
     "shell.execute_reply.started": "2022-03-17T18:46:16.546674Z"
    }
   },
   "outputs": [
    {
     "data": {
      "image/png": "[encoded data removed]",
      "text/plain": [
       "<Figure size 1008x576 with 1 Axes>"
      ]
     },
     "metadata": {
      "needs_background": "light"
     },
     "output_type": "display_data"
    }
   ],
   "source": [
    "distribution(n=8);"
   ]
  },
  {
   "cell_type": "code",
   "execution_count": 25,
   "id": "043c31b0-20ec-4906-a93b-098d9f8cc313",
   "metadata": {
    "execution": {
     "iopub.execute_input": "2022-03-17T18:50:07.768452Z",
     "iopub.status.busy": "2022-03-17T18:50:07.768173Z",
     "iopub.status.idle": "2022-03-17T19:13:05.209806Z",
     "shell.execute_reply": "2022-03-17T19:13:05.209515Z",
     "shell.execute_reply.started": "2022-03-17T18:50:07.768426Z"
    },
    "tags": []
   },
   "outputs": [
    {
     "data": {
      "image/png": "[encoded data removed]",
      "text/plain": [
       "<Figure size 1008x576 with 1 Axes>"
      ]
     },
     "metadata": {
      "needs_background": "light"
     },
     "output_type": "display_data"
    }
   ],
   "source": [
    "distribution(n=9);"
   ]
  },
  {
   "cell_type": "code",
   "execution_count": 8,
   "id": "146c9d79-9c8c-4e81-930a-f14e398fc60f",
   "metadata": {
    "execution": {
     "iopub.execute_input": "2022-03-22T18:45:11.043689Z",
     "iopub.status.busy": "2022-03-22T18:45:11.043433Z",
     "iopub.status.idle": "2022-03-22T18:45:11.048815Z",
     "shell.execute_reply": "2022-03-22T18:45:11.048173Z",
     "shell.execute_reply.started": "2022-03-22T18:45:11.043667Z"
    },
    "tags": []
   },
   "outputs": [
    {
     "data": {
      "text/plain": [
       "216"
      ]
     },
     "execution_count": 8,
     "metadata": {},
     "output_type": "execute_result"
    }
   ],
   "source": [
    "len(microStates(3,states=['1','2','3','4','5','6']))"
   ]
  },
  {
   "cell_type": "code",
   "execution_count": 11,
   "id": "3a7259fc-2299-4029-93f4-b95f3c7c7eb2",
   "metadata": {
    "execution": {
     "iopub.execute_input": "2022-03-22T18:45:31.961084Z",
     "iopub.status.busy": "2022-03-22T18:45:31.960600Z",
     "iopub.status.idle": "2022-03-22T18:45:31.965175Z",
     "shell.execute_reply": "2022-03-22T18:45:31.964626Z",
     "shell.execute_reply.started": "2022-03-22T18:45:31.961059Z"
    },
    "tags": []
   },
   "outputs": [
    {
     "data": {
      "text/plain": [
       "10077696"
      ]
     },
     "execution_count": 11,
     "metadata": {},
     "output_type": "execute_result"
    }
   ],
   "source": [
    "6**9"
   ]
  },
  {
   "cell_type": "code",
   "execution_count": 12,
   "id": "97af34df-3560-4b04-a3b6-7a50a501a086",
   "metadata": {
    "execution": {
     "iopub.execute_input": "2022-03-31T18:23:34.508938Z",
     "iopub.status.busy": "2022-03-31T18:23:34.508445Z",
     "iopub.status.idle": "2022-03-31T18:23:34.517516Z",
     "shell.execute_reply": "2022-03-31T18:23:34.516669Z",
     "shell.execute_reply.started": "2022-03-31T18:23:34.508894Z"
    },
    "tags": []
   },
   "outputs": [
    {
     "name": "stdout",
     "output_type": "stream",
     "text": [
      "['1', '4']\n",
      "['2', '4']\n",
      "['3', '4']\n",
      "['4', '1']\n",
      "['4', '2']\n",
      "['4', '3']\n",
      "['4', '4']\n",
      "['4', '5']\n",
      "['4', '6']\n",
      "['5', '4']\n",
      "['6', '4']\n"
     ]
    }
   ],
   "source": [
    "s = 0\n",
    "e = 0\n",
    "for r in microStates(2, states=['1','2','3','4','5','6']):\n",
    "    if '4' in r:\n",
    "        s += 1\n",
    "        if '5' in r:\n",
    "            e += 1\n",
    "        print(r)"
   ]
  },
  {
   "cell_type": "code",
   "execution_count": null,
   "id": "af162e82-6e1a-470a-8326-0774db54b64a",
   "metadata": {},
   "outputs": [],
   "source": []
  }
 ],
 "metadata": {
  "kernelspec": {
   "display_name": "Python 3 (ipykernel)",
   "language": "python",
   "name": "python3"
  },
  "language_info": {
   "codemirror_mode": {
    "name": "ipython",
    "version": 3
   },
   "file_extension": ".py",
   "mimetype": "text/x-python",
   "name": "python",
   "nbconvert_exporter": "python",
   "pygments_lexer": "ipython3",
   "version": "3.10.2"
  }
 },
 "nbformat": 4,
 "nbformat_minor": 5
}
