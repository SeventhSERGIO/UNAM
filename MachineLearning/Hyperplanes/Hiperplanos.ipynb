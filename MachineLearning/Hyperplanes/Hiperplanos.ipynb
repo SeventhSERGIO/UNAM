{
 "cells": [
  {
   "cell_type": "code",
   "execution_count": 5,
   "id": "4230218c-9780-423b-bb50-db3ad2e59a81",
   "metadata": {
    "execution": {
     "iopub.execute_input": "2022-03-23T02:48:11.497006Z",
     "iopub.status.busy": "2022-03-23T02:48:11.496219Z",
     "iopub.status.idle": "2022-03-23T02:48:11.506701Z",
     "shell.execute_reply": "2022-03-23T02:48:11.506165Z",
     "shell.execute_reply.started": "2022-03-23T02:48:11.496965Z"
    },
    "tags": []
   },
   "outputs": [],
   "source": [
    "def R(m:'Hiperplanos',n:'Numero de Dimensiones'):\n",
    "    if m == 0:\n",
    "        return 1\n",
    "    elif n == 1:\n",
    "        return m + 1\n",
    "    else:\n",
    "        return R(m-1,n)+R(m-1,n-1)"
   ]
  },
  {
   "cell_type": "code",
   "execution_count": 9,
   "id": "c27c6666-8b4f-4851-85bf-c6a9660f4b86",
   "metadata": {
    "execution": {
     "iopub.execute_input": "2022-03-23T02:49:30.980579Z",
     "iopub.status.busy": "2022-03-23T02:49:30.979982Z",
     "iopub.status.idle": "2022-03-23T02:49:30.988457Z",
     "shell.execute_reply": "2022-03-23T02:49:30.987246Z",
     "shell.execute_reply.started": "2022-03-23T02:49:30.980548Z"
    },
    "tags": []
   },
   "outputs": [
    {
     "data": {
      "text/plain": [
       "(11, 4, 15)"
      ]
     },
     "execution_count": 9,
     "metadata": {},
     "output_type": "execute_result"
    }
   ],
   "source": [
    "R(4,2)"
   ]
  },
  {
   "cell_type": "code",
   "execution_count": 9,
   "id": "e959eb31-49bb-4e08-ac03-97515760c433",
   "metadata": {
    "execution": {
     "iopub.execute_input": "2022-03-22T02:34:01.590006Z",
     "iopub.status.busy": "2022-03-22T02:34:01.589731Z",
     "iopub.status.idle": "2022-03-22T02:34:01.594839Z",
     "shell.execute_reply": "2022-03-22T02:34:01.594146Z",
     "shell.execute_reply.started": "2022-03-22T02:34:01.589981Z"
    },
    "tags": []
   },
   "outputs": [
    {
     "data": {
      "text/plain": [
       "11"
      ]
     },
     "execution_count": 9,
     "metadata": {},
     "output_type": "execute_result"
    }
   ],
   "source": [
    "R(4,2)"
   ]
  }
 ],
 "metadata": {
  "kernelspec": {
   "display_name": "Python 3 (ipykernel)",
   "language": "python",
   "name": "python3"
  },
  "language_info": {
   "codemirror_mode": {
    "name": "ipython",
    "version": 3
   },
   "file_extension": ".py",
   "mimetype": "text/x-python",
   "name": "python",
   "nbconvert_exporter": "python",
   "pygments_lexer": "ipython3",
   "version": "3.10.2"
  }
 },
 "nbformat": 4,
 "nbformat_minor": 5
}
