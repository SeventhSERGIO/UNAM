{
 "cells": [
  {
   "cell_type": "markdown",
   "id": "071a023e-927e-44ca-a475-7879ad2a43ea",
   "metadata": {},
   "source": [
    "Sergio Adrian Martínez Tena"
   ]
  },
  {
   "cell_type": "markdown",
   "id": "1b0a6fd3-4374-40c6-9089-f23871d09716",
   "metadata": {},
   "source": [
    "# Se importan las bibliotecas necesarias"
   ]
  },
  {
   "cell_type": "code",
   "execution_count": 1,
   "id": "c3263506-9a36-4240-9624-86f7d45a9a41",
   "metadata": {
    "execution": {
     "iopub.execute_input": "2022-04-27T00:51:05.445778Z",
     "iopub.status.busy": "2022-04-27T00:51:05.445687Z",
     "iopub.status.idle": "2022-04-27T00:51:06.518555Z",
     "shell.execute_reply": "2022-04-27T00:51:06.518196Z",
     "shell.execute_reply.started": "2022-04-27T00:51:05.445766Z"
    },
    "tags": []
   },
   "outputs": [],
   "source": [
    "from AC import specialGreen,specialPurple,specialRed,createFigures\n",
    "from sklearn.decomposition import PCA as pcaSklearn\n",
    "from sklearn.metrics import mean_squared_error\n",
    "from matplotlib import pyplot as plt\n",
    "from PIL import Image\n",
    "import pandas as pd\n",
    "import numpy as np\n",
    "# Define color map to use\n",
    "cmap = plt.get_cmap('Dark2',3)"
   ]
  },
  {
   "cell_type": "markdown",
   "id": "dc421aa5-9a6c-432b-a874-3b06f729f4b2",
   "metadata": {},
   "source": [
    "# Se importan los datos"
   ]
  },
  {
   "cell_type": "code",
   "execution_count": 2,
   "id": "103aba1b-d714-46ed-ab19-91aa71cb4ad6",
   "metadata": {
    "execution": {
     "iopub.execute_input": "2022-04-27T00:51:06.519293Z",
     "iopub.status.busy": "2022-04-27T00:51:06.519165Z",
     "iopub.status.idle": "2022-04-27T00:51:06.532107Z",
     "shell.execute_reply": "2022-04-27T00:51:06.531775Z",
     "shell.execute_reply.started": "2022-04-27T00:51:06.519279Z"
    },
    "tags": []
   },
   "outputs": [
    {
     "data": {
      "text/html": [
       "<div>\n",
       "<style scoped>\n",
       "    .dataframe tbody tr th:only-of-type {\n",
       "        vertical-align: middle;\n",
       "    }\n",
       "\n",
       "    .dataframe tbody tr th {\n",
       "        vertical-align: top;\n",
       "    }\n",
       "\n",
       "    .dataframe thead th {\n",
       "        text-align: right;\n",
       "    }\n",
       "</style>\n",
       "<table border=\"1\" class=\"dataframe\">\n",
       "  <thead>\n",
       "    <tr style=\"text-align: right;\">\n",
       "      <th></th>\n",
       "      <th>Alcohol</th>\n",
       "      <th>Malic acid</th>\n",
       "      <th>Ash</th>\n",
       "      <th>Alcalinity of ash</th>\n",
       "      <th>Magnesium</th>\n",
       "      <th>Total phenols</th>\n",
       "      <th>Flavanoids</th>\n",
       "      <th>Nonflavanoid phenols</th>\n",
       "      <th>Proanthocyanins</th>\n",
       "      <th>Color intensity</th>\n",
       "      <th>Hue</th>\n",
       "      <th>OD280/OD315 of diluted wines</th>\n",
       "      <th>Proline</th>\n",
       "    </tr>\n",
       "  </thead>\n",
       "  <tbody>\n",
       "    <tr>\n",
       "      <th>1</th>\n",
       "      <td>14.23</td>\n",
       "      <td>1.71</td>\n",
       "      <td>2.43</td>\n",
       "      <td>15.6</td>\n",
       "      <td>127</td>\n",
       "      <td>2.80</td>\n",
       "      <td>3.06</td>\n",
       "      <td>0.28</td>\n",
       "      <td>2.29</td>\n",
       "      <td>5.64</td>\n",
       "      <td>1.04</td>\n",
       "      <td>3.92</td>\n",
       "      <td>1065</td>\n",
       "    </tr>\n",
       "    <tr>\n",
       "      <th>1</th>\n",
       "      <td>13.20</td>\n",
       "      <td>1.78</td>\n",
       "      <td>2.14</td>\n",
       "      <td>11.2</td>\n",
       "      <td>100</td>\n",
       "      <td>2.65</td>\n",
       "      <td>2.76</td>\n",
       "      <td>0.26</td>\n",
       "      <td>1.28</td>\n",
       "      <td>4.38</td>\n",
       "      <td>1.05</td>\n",
       "      <td>3.40</td>\n",
       "      <td>1050</td>\n",
       "    </tr>\n",
       "    <tr>\n",
       "      <th>1</th>\n",
       "      <td>13.16</td>\n",
       "      <td>2.36</td>\n",
       "      <td>2.67</td>\n",
       "      <td>18.6</td>\n",
       "      <td>101</td>\n",
       "      <td>2.80</td>\n",
       "      <td>3.24</td>\n",
       "      <td>0.30</td>\n",
       "      <td>2.81</td>\n",
       "      <td>5.68</td>\n",
       "      <td>1.03</td>\n",
       "      <td>3.17</td>\n",
       "      <td>1185</td>\n",
       "    </tr>\n",
       "    <tr>\n",
       "      <th>1</th>\n",
       "      <td>14.37</td>\n",
       "      <td>1.95</td>\n",
       "      <td>2.50</td>\n",
       "      <td>16.8</td>\n",
       "      <td>113</td>\n",
       "      <td>3.85</td>\n",
       "      <td>3.49</td>\n",
       "      <td>0.24</td>\n",
       "      <td>2.18</td>\n",
       "      <td>7.80</td>\n",
       "      <td>0.86</td>\n",
       "      <td>3.45</td>\n",
       "      <td>1480</td>\n",
       "    </tr>\n",
       "    <tr>\n",
       "      <th>1</th>\n",
       "      <td>13.24</td>\n",
       "      <td>2.59</td>\n",
       "      <td>2.87</td>\n",
       "      <td>21.0</td>\n",
       "      <td>118</td>\n",
       "      <td>2.80</td>\n",
       "      <td>2.69</td>\n",
       "      <td>0.39</td>\n",
       "      <td>1.82</td>\n",
       "      <td>4.32</td>\n",
       "      <td>1.04</td>\n",
       "      <td>2.93</td>\n",
       "      <td>735</td>\n",
       "    </tr>\n",
       "  </tbody>\n",
       "</table>\n",
       "</div>"
      ],
      "text/plain": [
       "   Alcohol  Malic acid   Ash  Alcalinity of ash  Magnesium  Total phenols  \\\n",
       "1    14.23        1.71  2.43               15.6        127           2.80   \n",
       "1    13.20        1.78  2.14               11.2        100           2.65   \n",
       "1    13.16        2.36  2.67               18.6        101           2.80   \n",
       "1    14.37        1.95  2.50               16.8        113           3.85   \n",
       "1    13.24        2.59  2.87               21.0        118           2.80   \n",
       "\n",
       "   Flavanoids  Nonflavanoid phenols  Proanthocyanins  Color intensity   Hue  \\\n",
       "1        3.06                  0.28             2.29             5.64  1.04   \n",
       "1        2.76                  0.26             1.28             4.38  1.05   \n",
       "1        3.24                  0.30             2.81             5.68  1.03   \n",
       "1        3.49                  0.24             2.18             7.80  0.86   \n",
       "1        2.69                  0.39             1.82             4.32  1.04   \n",
       "\n",
       "   OD280/OD315 of diluted wines  Proline  \n",
       "1                          3.92     1065  \n",
       "1                          3.40     1050  \n",
       "1                          3.17     1185  \n",
       "1                          3.45     1480  \n",
       "1                          2.93      735  "
      ]
     },
     "execution_count": 2,
     "metadata": {},
     "output_type": "execute_result"
    }
   ],
   "source": [
    "# Declare the columns names\n",
    "atributes = ['Alcohol', 'Malic acid', 'Ash','Alcalinity of ash', 'Magnesium', 'Total phenols', \n",
    "             'Flavanoids', 'Nonflavanoid phenols', 'Proanthocyanins', 'Color intensity', \n",
    "             'Hue', 'OD280/OD315 of diluted wines', 'Proline']\n",
    "# Load the data with the respective columns names\n",
    "dataset = pd.read_csv('wine.data', names=atributes)\n",
    "# Show the first 5 rows of the data set\n",
    "dataset.head()"
   ]
  },
  {
   "cell_type": "code",
   "execution_count": 3,
   "id": "45b7074b-c9f5-4dee-a12d-50f5e9e51fcf",
   "metadata": {
    "execution": {
     "iopub.execute_input": "2022-04-27T00:51:06.532823Z",
     "iopub.status.busy": "2022-04-27T00:51:06.532717Z",
     "iopub.status.idle": "2022-04-27T00:51:06.542596Z",
     "shell.execute_reply": "2022-04-27T00:51:06.542230Z",
     "shell.execute_reply.started": "2022-04-27T00:51:06.532811Z"
    },
    "tags": []
   },
   "outputs": [
    {
     "name": "stdout",
     "output_type": "stream",
     "text": [
      "<class 'pandas.core.frame.DataFrame'>\n",
      "Int64Index: 178 entries, 1 to 3\n",
      "Data columns (total 13 columns):\n",
      " #   Column                        Non-Null Count  Dtype  \n",
      "---  ------                        --------------  -----  \n",
      " 0   Alcohol                       178 non-null    float64\n",
      " 1   Malic acid                    178 non-null    float64\n",
      " 2   Ash                           178 non-null    float64\n",
      " 3   Alcalinity of ash             178 non-null    float64\n",
      " 4   Magnesium                     178 non-null    int64  \n",
      " 5   Total phenols                 178 non-null    float64\n",
      " 6   Flavanoids                    178 non-null    float64\n",
      " 7   Nonflavanoid phenols          178 non-null    float64\n",
      " 8   Proanthocyanins               178 non-null    float64\n",
      " 9   Color intensity               178 non-null    float64\n",
      " 10  Hue                           178 non-null    float64\n",
      " 11  OD280/OD315 of diluted wines  178 non-null    float64\n",
      " 12  Proline                       178 non-null    int64  \n",
      "dtypes: float64(11), int64(2)\n",
      "memory usage: 19.5 KB\n"
     ]
    }
   ],
   "source": [
    "dataset.info()"
   ]
  },
  {
   "cell_type": "markdown",
   "id": "f7291274-ad31-4ee8-a83b-32111ce86534",
   "metadata": {},
   "source": [
    "## Preprocesamiento de los datos"
   ]
  },
  {
   "cell_type": "markdown",
   "id": "c4aaf5ec-a44c-49ec-a6bf-ee64f35be644",
   "metadata": {},
   "source": [
    "Debido a que los índices en el conjunto de datos marcan la clase a la que pertenecen, estos se convierten a una Serie de pandas."
   ]
  },
  {
   "cell_type": "code",
   "execution_count": 4,
   "id": "e1282ffa-f734-4d0e-84b4-c9183310aa16",
   "metadata": {
    "execution": {
     "iopub.execute_input": "2022-04-27T00:51:06.543243Z",
     "iopub.status.busy": "2022-04-27T00:51:06.543161Z",
     "iopub.status.idle": "2022-04-27T00:51:06.548437Z",
     "shell.execute_reply": "2022-04-27T00:51:06.548116Z",
     "shell.execute_reply.started": "2022-04-27T00:51:06.543229Z"
    },
    "tags": []
   },
   "outputs": [
    {
     "data": {
      "text/plain": [
       "0      1\n",
       "1      1\n",
       "2      1\n",
       "3      1\n",
       "4      1\n",
       "      ..\n",
       "173    3\n",
       "174    3\n",
       "175    3\n",
       "176    3\n",
       "177    3\n",
       "Name: index, Length: 178, dtype: int64"
      ]
     },
     "execution_count": 4,
     "metadata": {},
     "output_type": "execute_result"
    }
   ],
   "source": [
    "# Get the classes of every vector\n",
    "dataset = dataset.reset_index()\n",
    "classes = dataset['index']\n",
    "dataset = dataset.drop(columns=['index'])\n",
    "uniqueClasses = np.unique(classes)\n",
    "# Pandas Series, classes of every vector\n",
    "classes"
   ]
  },
  {
   "cell_type": "markdown",
   "id": "800fba0f-e7f0-4969-956a-199f8b75a156",
   "metadata": {},
   "source": [
    "Se estandarizan los datos antes de aplicar análisis de componentes principales."
   ]
  },
  {
   "cell_type": "code",
   "execution_count": 5,
   "id": "0eb21cc6-f051-4dda-a54f-7a737f2e607a",
   "metadata": {
    "execution": {
     "iopub.execute_input": "2022-04-27T00:51:06.549183Z",
     "iopub.status.busy": "2022-04-27T00:51:06.549034Z",
     "iopub.status.idle": "2022-04-27T00:51:06.561502Z",
     "shell.execute_reply": "2022-04-27T00:51:06.561097Z",
     "shell.execute_reply.started": "2022-04-27T00:51:06.549167Z"
    },
    "tags": []
   },
   "outputs": [
    {
     "data": {
      "text/html": [
       "<div>\n",
       "<style scoped>\n",
       "    .dataframe tbody tr th:only-of-type {\n",
       "        vertical-align: middle;\n",
       "    }\n",
       "\n",
       "    .dataframe tbody tr th {\n",
       "        vertical-align: top;\n",
       "    }\n",
       "\n",
       "    .dataframe thead th {\n",
       "        text-align: right;\n",
       "    }\n",
       "</style>\n",
       "<table border=\"1\" class=\"dataframe\">\n",
       "  <thead>\n",
       "    <tr style=\"text-align: right;\">\n",
       "      <th></th>\n",
       "      <th>Alcohol</th>\n",
       "      <th>Malic acid</th>\n",
       "      <th>Ash</th>\n",
       "      <th>Alcalinity of ash</th>\n",
       "      <th>Magnesium</th>\n",
       "      <th>Total phenols</th>\n",
       "      <th>Flavanoids</th>\n",
       "      <th>Nonflavanoid phenols</th>\n",
       "      <th>Proanthocyanins</th>\n",
       "      <th>Color intensity</th>\n",
       "      <th>Hue</th>\n",
       "      <th>OD280/OD315 of diluted wines</th>\n",
       "      <th>Proline</th>\n",
       "    </tr>\n",
       "  </thead>\n",
       "  <tbody>\n",
       "    <tr>\n",
       "      <th>0</th>\n",
       "      <td>1.514341</td>\n",
       "      <td>-0.560668</td>\n",
       "      <td>0.231400</td>\n",
       "      <td>-1.166303</td>\n",
       "      <td>1.908522</td>\n",
       "      <td>0.806722</td>\n",
       "      <td>1.031908</td>\n",
       "      <td>-0.657708</td>\n",
       "      <td>1.221438</td>\n",
       "      <td>0.251009</td>\n",
       "      <td>0.361158</td>\n",
       "      <td>1.842721</td>\n",
       "      <td>1.010159</td>\n",
       "    </tr>\n",
       "    <tr>\n",
       "      <th>1</th>\n",
       "      <td>0.245597</td>\n",
       "      <td>-0.498009</td>\n",
       "      <td>-0.825667</td>\n",
       "      <td>-2.483841</td>\n",
       "      <td>0.018094</td>\n",
       "      <td>0.567048</td>\n",
       "      <td>0.731565</td>\n",
       "      <td>-0.818411</td>\n",
       "      <td>-0.543189</td>\n",
       "      <td>-0.292496</td>\n",
       "      <td>0.404908</td>\n",
       "      <td>1.110317</td>\n",
       "      <td>0.962526</td>\n",
       "    </tr>\n",
       "    <tr>\n",
       "      <th>2</th>\n",
       "      <td>0.196325</td>\n",
       "      <td>0.021172</td>\n",
       "      <td>1.106214</td>\n",
       "      <td>-0.267982</td>\n",
       "      <td>0.088110</td>\n",
       "      <td>0.806722</td>\n",
       "      <td>1.212114</td>\n",
       "      <td>-0.497005</td>\n",
       "      <td>2.129959</td>\n",
       "      <td>0.268263</td>\n",
       "      <td>0.317409</td>\n",
       "      <td>0.786369</td>\n",
       "      <td>1.391224</td>\n",
       "    </tr>\n",
       "    <tr>\n",
       "      <th>3</th>\n",
       "      <td>1.686791</td>\n",
       "      <td>-0.345835</td>\n",
       "      <td>0.486554</td>\n",
       "      <td>-0.806975</td>\n",
       "      <td>0.928300</td>\n",
       "      <td>2.484437</td>\n",
       "      <td>1.462399</td>\n",
       "      <td>-0.979113</td>\n",
       "      <td>1.029251</td>\n",
       "      <td>1.182732</td>\n",
       "      <td>-0.426341</td>\n",
       "      <td>1.180741</td>\n",
       "      <td>2.328007</td>\n",
       "    </tr>\n",
       "    <tr>\n",
       "      <th>4</th>\n",
       "      <td>0.294868</td>\n",
       "      <td>0.227053</td>\n",
       "      <td>1.835226</td>\n",
       "      <td>0.450674</td>\n",
       "      <td>1.278379</td>\n",
       "      <td>0.806722</td>\n",
       "      <td>0.661485</td>\n",
       "      <td>0.226158</td>\n",
       "      <td>0.400275</td>\n",
       "      <td>-0.318377</td>\n",
       "      <td>0.361158</td>\n",
       "      <td>0.448336</td>\n",
       "      <td>-0.037767</td>\n",
       "    </tr>\n",
       "  </tbody>\n",
       "</table>\n",
       "</div>"
      ],
      "text/plain": [
       "    Alcohol  Malic acid       Ash  Alcalinity of ash  Magnesium  \\\n",
       "0  1.514341   -0.560668  0.231400          -1.166303   1.908522   \n",
       "1  0.245597   -0.498009 -0.825667          -2.483841   0.018094   \n",
       "2  0.196325    0.021172  1.106214          -0.267982   0.088110   \n",
       "3  1.686791   -0.345835  0.486554          -0.806975   0.928300   \n",
       "4  0.294868    0.227053  1.835226           0.450674   1.278379   \n",
       "\n",
       "   Total phenols  Flavanoids  Nonflavanoid phenols  Proanthocyanins  \\\n",
       "0       0.806722    1.031908             -0.657708         1.221438   \n",
       "1       0.567048    0.731565             -0.818411        -0.543189   \n",
       "2       0.806722    1.212114             -0.497005         2.129959   \n",
       "3       2.484437    1.462399             -0.979113         1.029251   \n",
       "4       0.806722    0.661485              0.226158         0.400275   \n",
       "\n",
       "   Color intensity       Hue  OD280/OD315 of diluted wines   Proline  \n",
       "0         0.251009  0.361158                      1.842721  1.010159  \n",
       "1        -0.292496  0.404908                      1.110317  0.962526  \n",
       "2         0.268263  0.317409                      0.786369  1.391224  \n",
       "3         1.182732 -0.426341                      1.180741  2.328007  \n",
       "4        -0.318377  0.361158                      0.448336 -0.037767  "
      ]
     },
     "execution_count": 5,
     "metadata": {},
     "output_type": "execute_result"
    }
   ],
   "source": [
    "# Standardize the data\n",
    "dataset = dataset.apply(lambda x: (x - x.mean())/(x.std()), axis=0)\n",
    "# Show the first 5 rows of the data set\n",
    "dataset.head()"
   ]
  },
  {
   "cell_type": "markdown",
   "id": "5ff204b2-da68-4fba-985f-01b585ff3b9b",
   "metadata": {
    "tags": []
   },
   "source": [
    "# Función de análisis de componentes principales"
   ]
  },
  {
   "cell_type": "markdown",
   "id": "cd66591e-3be6-471e-bcb5-e309f2ec2aed",
   "metadata": {},
   "source": [
    "Función utilizando NumPy y multiplicación de matrices."
   ]
  },
  {
   "cell_type": "code",
   "execution_count": 7,
   "id": "b2651058-e49a-4f8d-901c-0b15cda17419",
   "metadata": {
    "execution": {
     "iopub.execute_input": "2022-04-27T00:51:10.931212Z",
     "iopub.status.busy": "2022-04-27T00:51:10.930575Z",
     "iopub.status.idle": "2022-04-27T00:51:10.945574Z",
     "shell.execute_reply": "2022-04-27T00:51:10.944724Z",
     "shell.execute_reply.started": "2022-04-27T00:51:10.931183Z"
    },
    "tags": []
   },
   "outputs": [],
   "source": [
    "def PCA(data:'Numpy array or Pandas DataFrame', k:'First principal components'=2, \n",
    "        plotRanking=False, frame=False, showPCs=False):\n",
    "    # k = 'all' means using all principal components\n",
    "    if k == 'all':\n",
    "        k = data.shape[1]\n",
    "    # Calculate the covariance matrix\n",
    "    cov = np.cov(data, rowvar=False)\n",
    "    # Calculate the eigenvalues and eigenvectors\n",
    "    eigenvalues, eigenvectors = np.linalg.eig(cov)\n",
    "    eigenvalues = eigenvalues/eigenvalues.sum()\n",
    "    # Make ranking with eigenvalues\n",
    "    rank = sorted(range(eigenvalues.size), key=lambda k: eigenvalues[k], reverse=True)\n",
    "    # Sort arrays by the rank\n",
    "    eigenvalues = eigenvalues[rank]\n",
    "    eigenvectors =  eigenvectors[:,rank]\n",
    "    # If the flag is true plot every principal component\n",
    "    if plotRanking:\n",
    "        # Plot the the ranking of every vector k\n",
    "        ax = createFigures(figsize=(18,5))\n",
    "        pcs = eigenvalues[:k]\n",
    "        n = pcs.size\n",
    "        ax.bar(range(n), pcs, color=specialGreen, alpha=0.5, label='Explained Variance of $PC_i$');\n",
    "        cdf = np.cumsum(pcs)\n",
    "        # If the flag is True show the other components on the graph\n",
    "        if showPCs:\n",
    "            n = eigenvalues.size\n",
    "            zeros = np.zeros((k))\n",
    "            ax.bar(range(n), np.concatenate((zeros,eigenvalues[k:])), color=specialPurple, alpha=0.5);\n",
    "        if n < 15:\n",
    "            ax.set_xticks(range(n), labels=[f'$PC_{{{i+1}}}$' for i in range(n)])\n",
    "            ax.plot(range(cdf.size), cdf, 'o-', color=specialRed, label=f'Cumulative Variance: {round(pcs.sum(),3)}');\n",
    "        else:\n",
    "            ax.plot(range(cdf.size), cdf, '-', color=specialRed, label=f'Cumulative Variance: {round(pcs.sum(),3)}');\n",
    "        ax.set_ylabel('Portion of Variance');\n",
    "        ax.set_xlabel('Principal Components');\n",
    "        ax.set_title('Explained variance as a function of the number of dimensions', fontsize=16, fontweight='bold')\n",
    "        ax.legend(fontsize=14)\n",
    "    # Matrix containing the first k principal components  \n",
    "    w = eigenvectors[:,:k]\n",
    "    # Projecting the data set down to d dimensions \n",
    "    dataProj = np.dot(data,w)\n",
    "    # Return a new DataFrame projected into the first k principal components if frame is True\n",
    "    if frame:\n",
    "        return pd.DataFrame(dataProj, columns=[f'PC{i+1}' for i in range(k)]), w  \n",
    "    else:\n",
    "        return dataProj, w"
   ]
  },
  {
   "cell_type": "markdown",
   "id": "ebd80206-a643-4709-893c-0d455a68786b",
   "metadata": {},
   "source": [
    "Función utilizando la biblioteca scikit-learn."
   ]
  },
  {
   "cell_type": "code",
   "execution_count": 8,
   "id": "6760dd14-b9d6-40df-92d7-6d1062e17661",
   "metadata": {
    "execution": {
     "iopub.execute_input": "2022-04-27T00:51:10.947147Z",
     "iopub.status.busy": "2022-04-27T00:51:10.946841Z",
     "iopub.status.idle": "2022-04-27T00:51:10.960010Z",
     "shell.execute_reply": "2022-04-27T00:51:10.956260Z",
     "shell.execute_reply.started": "2022-04-27T00:51:10.947121Z"
    },
    "tags": []
   },
   "outputs": [],
   "source": [
    "def PCAsklearn(data, k=2, plotRanking=False, frame=True):\n",
    "    pca = pcaSklearn(n_components=k)\n",
    "    pca.fit(data)\n",
    "    pcs = pca.explained_variance_ratio_\n",
    "    n = pcs.size\n",
    "    # If the flag is true plot every principal component\n",
    "    if plotRanking:\n",
    "        # Plot the the ranking of every vector k\n",
    "        ax = createFigures(figsize=(18,5))\n",
    "        ax.bar(range(n), pcs, color=specialGreen, alpha=0.5, label='Explained Variance of $PC_i$')\n",
    "        cdf = np.cumsum(pcs)\n",
    "        if n < 15:\n",
    "            ax.set_xticks(range(n), labels=[f'$PC_{{{i+1}}}$' for i in range(n)])\n",
    "            marker = '-o'\n",
    "        else:\n",
    "            marker = '-'\n",
    "        ax.plot(range(cdf.size), cdf, marker, color=specialRed, label=f'Cumulative Variance: {round(pcs.sum(),3)}');\n",
    "        ax.set_ylabel('Portion of Variance');\n",
    "        ax.set_xlabel('Principal Components');\n",
    "        ax.legend(fontsize=14)\n",
    "    # Matrix containing the first k principal components  \n",
    "    w = pca.components_.T\n",
    "    # Projecting the data set down to d dimensions \n",
    "    dataProj = pca.transform(data)\n",
    "    # Return a new DataFrame projected into the first k principal components if frame is True\n",
    "    if frame:\n",
    "        return pd.DataFrame(dataProj, columns=[f'PC{i+1}' for i in range(n)]), w  \n",
    "    else:\n",
    "        return dataProj, w"
   ]
  },
  {
   "cell_type": "markdown",
   "id": "b5e55ae2-92fa-4354-b458-03e2a352b5b5",
   "metadata": {},
   "source": [
    "# Resultados"
   ]
  },
  {
   "cell_type": "markdown",
   "id": "b839ac6c-c331-46a9-8e95-b1e38227cf2a",
   "metadata": {
    "tags": []
   },
   "source": [
    "## Utilizando Numpy"
   ]
  },
  {
   "cell_type": "code",
   "execution_count": 9,
   "id": "c5ce2346-9446-4e09-a6e3-49d510be872e",
   "metadata": {
    "execution": {
     "iopub.execute_input": "2022-04-27T00:51:10.961873Z",
     "iopub.status.busy": "2022-04-27T00:51:10.961206Z",
     "iopub.status.idle": "2022-04-27T00:51:11.653602Z",
     "shell.execute_reply": "2022-04-27T00:51:11.652975Z",
     "shell.execute_reply.started": "2022-04-27T00:51:10.961841Z"
    },
    "tags": []
   },
   "outputs": [
    {
     "data": {
      "text/html": [
       "<div>\n",
       "<style scoped>\n",
       "    .dataframe tbody tr th:only-of-type {\n",
       "        vertical-align: middle;\n",
       "    }\n",
       "\n",
       "    .dataframe tbody tr th {\n",
       "        vertical-align: top;\n",
       "    }\n",
       "\n",
       "    .dataframe thead th {\n",
       "        text-align: right;\n",
       "    }\n",
       "</style>\n",
       "<table border=\"1\" class=\"dataframe\">\n",
       "  <thead>\n",
       "    <tr style=\"text-align: right;\">\n",
       "      <th></th>\n",
       "      <th>PC1</th>\n",
       "      <th>PC2</th>\n",
       "      <th>PC3</th>\n",
       "      <th>PC4</th>\n",
       "      <th>PC5</th>\n",
       "      <th>PC6</th>\n",
       "    </tr>\n",
       "  </thead>\n",
       "  <tbody>\n",
       "    <tr>\n",
       "      <th>0</th>\n",
       "      <td>-3.307421</td>\n",
       "      <td>-1.439402</td>\n",
       "      <td>0.165273</td>\n",
       "      <td>-0.215025</td>\n",
       "      <td>-0.691093</td>\n",
       "      <td>-0.223250</td>\n",
       "    </tr>\n",
       "    <tr>\n",
       "      <th>1</th>\n",
       "      <td>-2.203250</td>\n",
       "      <td>0.332455</td>\n",
       "      <td>2.020757</td>\n",
       "      <td>-0.290539</td>\n",
       "      <td>0.256930</td>\n",
       "      <td>-0.924512</td>\n",
       "    </tr>\n",
       "    <tr>\n",
       "      <th>2</th>\n",
       "      <td>-2.509661</td>\n",
       "      <td>-1.028251</td>\n",
       "      <td>-0.980054</td>\n",
       "      <td>0.722863</td>\n",
       "      <td>0.250327</td>\n",
       "      <td>0.547731</td>\n",
       "    </tr>\n",
       "    <tr>\n",
       "      <th>3</th>\n",
       "      <td>-3.746497</td>\n",
       "      <td>-2.748618</td>\n",
       "      <td>0.175696</td>\n",
       "      <td>0.566386</td>\n",
       "      <td>0.310964</td>\n",
       "      <td>0.114109</td>\n",
       "    </tr>\n",
       "    <tr>\n",
       "      <th>4</th>\n",
       "      <td>-1.006070</td>\n",
       "      <td>-0.867384</td>\n",
       "      <td>-2.020987</td>\n",
       "      <td>-0.408613</td>\n",
       "      <td>-0.297618</td>\n",
       "      <td>-0.405376</td>\n",
       "    </tr>\n",
       "    <tr>\n",
       "      <th>...</th>\n",
       "      <td>...</td>\n",
       "      <td>...</td>\n",
       "      <td>...</td>\n",
       "      <td>...</td>\n",
       "      <td>...</td>\n",
       "      <td>...</td>\n",
       "    </tr>\n",
       "    <tr>\n",
       "      <th>173</th>\n",
       "      <td>3.361043</td>\n",
       "      <td>-2.210055</td>\n",
       "      <td>0.341606</td>\n",
       "      <td>1.055549</td>\n",
       "      <td>0.572549</td>\n",
       "      <td>-1.105669</td>\n",
       "    </tr>\n",
       "    <tr>\n",
       "      <th>174</th>\n",
       "      <td>2.594637</td>\n",
       "      <td>-1.752286</td>\n",
       "      <td>-0.206997</td>\n",
       "      <td>0.348513</td>\n",
       "      <td>-0.254346</td>\n",
       "      <td>-0.026391</td>\n",
       "    </tr>\n",
       "    <tr>\n",
       "      <th>175</th>\n",
       "      <td>2.670307</td>\n",
       "      <td>-2.753133</td>\n",
       "      <td>0.938295</td>\n",
       "      <td>0.311157</td>\n",
       "      <td>-1.267779</td>\n",
       "      <td>0.272300</td>\n",
       "    </tr>\n",
       "    <tr>\n",
       "      <th>176</th>\n",
       "      <td>2.380303</td>\n",
       "      <td>-2.290884</td>\n",
       "      <td>0.549147</td>\n",
       "      <td>-0.686348</td>\n",
       "      <td>-0.811666</td>\n",
       "      <td>1.175467</td>\n",
       "    </tr>\n",
       "    <tr>\n",
       "      <th>177</th>\n",
       "      <td>3.199732</td>\n",
       "      <td>-2.761131</td>\n",
       "      <td>-1.011062</td>\n",
       "      <td>0.595224</td>\n",
       "      <td>0.892674</td>\n",
       "      <td>0.295259</td>\n",
       "    </tr>\n",
       "  </tbody>\n",
       "</table>\n",
       "<p>178 rows × 6 columns</p>\n",
       "</div>"
      ],
      "text/plain": [
       "          PC1       PC2       PC3       PC4       PC5       PC6\n",
       "0   -3.307421 -1.439402  0.165273 -0.215025 -0.691093 -0.223250\n",
       "1   -2.203250  0.332455  2.020757 -0.290539  0.256930 -0.924512\n",
       "2   -2.509661 -1.028251 -0.980054  0.722863  0.250327  0.547731\n",
       "3   -3.746497 -2.748618  0.175696  0.566386  0.310964  0.114109\n",
       "4   -1.006070 -0.867384 -2.020987 -0.408613 -0.297618 -0.405376\n",
       "..        ...       ...       ...       ...       ...       ...\n",
       "173  3.361043 -2.210055  0.341606  1.055549  0.572549 -1.105669\n",
       "174  2.594637 -1.752286 -0.206997  0.348513 -0.254346 -0.026391\n",
       "175  2.670307 -2.753133  0.938295  0.311157 -1.267779  0.272300\n",
       "176  2.380303 -2.290884  0.549147 -0.686348 -0.811666  1.175467\n",
       "177  3.199732 -2.761131 -1.011062  0.595224  0.892674  0.295259\n",
       "\n",
       "[178 rows x 6 columns]"
      ]
     },
     "execution_count": 9,
     "metadata": {},
     "output_type": "execute_result"
    },
    {
     "data": {
      "image/png": "[encoded data removed]",
      "text/plain": [
       "<Figure size 1296x360 with 1 Axes>"
      ]
     },
     "metadata": {
      "needs_background": "light"
     },
     "output_type": "display_data"
    },
    {
     "data": {
      "image/png": "[encoded data removed]",
      "text/plain": [
       "<Figure size 720x648 with 1 Axes>"
      ]
     },
     "metadata": {
      "needs_background": "light"
     },
     "output_type": "display_data"
    }
   ],
   "source": [
    "# New data with the 4 first principal components\n",
    "newData, w = PCA(dataset, k=6, plotRanking=True, frame=True, showPCs=True)\n",
    "# The graph shows the first two principal componentes\n",
    "ax = createFigures(figsize=(10,9))\n",
    "scatter = ax.scatter(x=newData['PC1'], y=newData['PC2'], c=classes, cmap=cmap);\n",
    "ax.legend(scatter.legend_elements()[0], uniqueClasses, fontsize=14, title='Classes');\n",
    "ax.set_xlabel('PC1');\n",
    "ax.set_ylabel('PC2');\n",
    "# Show the values of the components\n",
    "newData"
   ]
  },
  {
   "cell_type": "markdown",
   "id": "2889d5d8-b751-41db-8d49-19b9f4e2f83f",
   "metadata": {},
   "source": [
    "## Utilizando scikit-learn."
   ]
  },
  {
   "cell_type": "code",
   "execution_count": 10,
   "id": "0eb68f2b-90fc-4dbf-8bcc-c29cb78ee35f",
   "metadata": {
    "execution": {
     "iopub.execute_input": "2022-04-27T00:51:11.657363Z",
     "iopub.status.busy": "2022-04-27T00:51:11.657178Z",
     "iopub.status.idle": "2022-04-27T00:51:11.793366Z",
     "shell.execute_reply": "2022-04-27T00:51:11.792945Z",
     "shell.execute_reply.started": "2022-04-27T00:51:11.657347Z"
    },
    "tags": []
   },
   "outputs": [
    {
     "data": {
      "text/html": [
       "<div>\n",
       "<style scoped>\n",
       "    .dataframe tbody tr th:only-of-type {\n",
       "        vertical-align: middle;\n",
       "    }\n",
       "\n",
       "    .dataframe tbody tr th {\n",
       "        vertical-align: top;\n",
       "    }\n",
       "\n",
       "    .dataframe thead th {\n",
       "        text-align: right;\n",
       "    }\n",
       "</style>\n",
       "<table border=\"1\" class=\"dataframe\">\n",
       "  <thead>\n",
       "    <tr style=\"text-align: right;\">\n",
       "      <th></th>\n",
       "      <th>PC1</th>\n",
       "      <th>PC2</th>\n",
       "    </tr>\n",
       "  </thead>\n",
       "  <tbody>\n",
       "    <tr>\n",
       "      <th>0</th>\n",
       "      <td>3.307421</td>\n",
       "      <td>-1.439402</td>\n",
       "    </tr>\n",
       "    <tr>\n",
       "      <th>1</th>\n",
       "      <td>2.203250</td>\n",
       "      <td>0.332455</td>\n",
       "    </tr>\n",
       "    <tr>\n",
       "      <th>2</th>\n",
       "      <td>2.509661</td>\n",
       "      <td>-1.028251</td>\n",
       "    </tr>\n",
       "    <tr>\n",
       "      <th>3</th>\n",
       "      <td>3.746497</td>\n",
       "      <td>-2.748618</td>\n",
       "    </tr>\n",
       "    <tr>\n",
       "      <th>4</th>\n",
       "      <td>1.006070</td>\n",
       "      <td>-0.867384</td>\n",
       "    </tr>\n",
       "    <tr>\n",
       "      <th>...</th>\n",
       "      <td>...</td>\n",
       "      <td>...</td>\n",
       "    </tr>\n",
       "    <tr>\n",
       "      <th>173</th>\n",
       "      <td>-3.361043</td>\n",
       "      <td>-2.210055</td>\n",
       "    </tr>\n",
       "    <tr>\n",
       "      <th>174</th>\n",
       "      <td>-2.594637</td>\n",
       "      <td>-1.752286</td>\n",
       "    </tr>\n",
       "    <tr>\n",
       "      <th>175</th>\n",
       "      <td>-2.670307</td>\n",
       "      <td>-2.753133</td>\n",
       "    </tr>\n",
       "    <tr>\n",
       "      <th>176</th>\n",
       "      <td>-2.380303</td>\n",
       "      <td>-2.290884</td>\n",
       "    </tr>\n",
       "    <tr>\n",
       "      <th>177</th>\n",
       "      <td>-3.199732</td>\n",
       "      <td>-2.761131</td>\n",
       "    </tr>\n",
       "  </tbody>\n",
       "</table>\n",
       "<p>178 rows × 2 columns</p>\n",
       "</div>"
      ],
      "text/plain": [
       "          PC1       PC2\n",
       "0    3.307421 -1.439402\n",
       "1    2.203250  0.332455\n",
       "2    2.509661 -1.028251\n",
       "3    3.746497 -2.748618\n",
       "4    1.006070 -0.867384\n",
       "..        ...       ...\n",
       "173 -3.361043 -2.210055\n",
       "174 -2.594637 -1.752286\n",
       "175 -2.670307 -2.753133\n",
       "176 -2.380303 -2.290884\n",
       "177 -3.199732 -2.761131\n",
       "\n",
       "[178 rows x 2 columns]"
      ]
     },
     "execution_count": 10,
     "metadata": {},
     "output_type": "execute_result"
    },
    {
     "data": {
      "image/png": "[encoded data removed]",
      "text/plain": [
       "<Figure size 720x648 with 1 Axes>"
      ]
     },
     "metadata": {
      "needs_background": "light"
     },
     "output_type": "display_data"
    }
   ],
   "source": [
    "# New data with the 4 first principal components\n",
    "newData, w = PCAsklearn(dataset, k=2, plotRanking=False, frame=True)\n",
    "# The graph shows the first two principal componentes\n",
    "ax = createFigures(figsize=(10,9))\n",
    "scatter = ax.scatter(x=newData['PC1'], y=newData['PC2'], c=classes, cmap=cmap);\n",
    "ax.legend(scatter.legend_elements()[0],uniqueClasses, fontsize=14, title='Classes');\n",
    "ax.set_xlabel('PC1');\n",
    "ax.set_ylabel('PC2');\n",
    "# Show the values of the components\n",
    "newData"
   ]
  }
 ],
 "metadata": {
  "kernelspec": {
   "display_name": "Python 3 (ipykernel)",
   "language": "python",
   "name": "python3"
  },
  "language_info": {
   "codemirror_mode": {
    "name": "ipython",
    "version": 3
   },
   "file_extension": ".py",
   "mimetype": "text/x-python",
   "name": "python",
   "nbconvert_exporter": "python",
   "pygments_lexer": "ipython3",
   "version": "3.10.2"
  },
  "toc-autonumbering": false
 },
 "nbformat": 4,
 "nbformat_minor": 5
}
