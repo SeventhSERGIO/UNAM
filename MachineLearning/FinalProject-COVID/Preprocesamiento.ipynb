{
 "cells": [
  {
   "cell_type": "markdown",
   "id": "b1b0ba9c-74e2-4b12-acdf-c2a3f8a589b5",
   "metadata": {},
   "source": [
    "# Bibliotecas necesarias"
   ]
  },
  {
   "cell_type": "code",
   "execution_count": 1,
   "id": "530008f0-92f5-4c1c-84dd-a0edec754e01",
   "metadata": {
    "execution": {
     "iopub.execute_input": "2022-06-03T05:22:09.123536Z",
     "iopub.status.busy": "2022-06-03T05:22:09.123167Z",
     "iopub.status.idle": "2022-06-03T05:22:09.984111Z",
     "shell.execute_reply": "2022-06-03T05:22:09.983855Z",
     "shell.execute_reply.started": "2022-06-03T05:22:09.123488Z"
    },
    "tags": []
   },
   "outputs": [],
   "source": [
    "from matplotlib import pyplot as plt\n",
    "from sklearn import preprocessing\n",
    "from sklearn.model_selection import train_test_split\n",
    "import pandas as pd\n",
    "import numpy as np\n",
    "import warnings\n",
    "import AC\n",
    "# Ignore DtypeWarnings from pandas' read_csv                                                                                                                                                                                            \n",
    "warnings.filterwarnings('ignore', message=\"^Columns.*\")"
   ]
  },
  {
   "cell_type": "markdown",
   "id": "f151477d-5b29-403c-b6f8-209ee8008b58",
   "metadata": {},
   "source": [
    "# Funciones necesarias"
   ]
  },
  {
   "cell_type": "code",
   "execution_count": 2,
   "id": "137ea57b-d335-442c-9d26-1080fc9429fc",
   "metadata": {
    "execution": {
     "iopub.execute_input": "2022-06-03T05:22:09.984922Z",
     "iopub.status.busy": "2022-06-03T05:22:09.984833Z",
     "iopub.status.idle": "2022-06-03T05:22:09.987139Z",
     "shell.execute_reply": "2022-06-03T05:22:09.986711Z",
     "shell.execute_reply.started": "2022-06-03T05:22:09.984912Z"
    },
    "tags": []
   },
   "outputs": [],
   "source": [
    "def frameToDict(path, keyword='CLAVE'):\n",
    "    # Get a dictionary code:value from the csv\n",
    "    dict_temp = (\n",
    "        pd.read_csv(path)\n",
    "        .set_index(keyword)\n",
    "        .squeeze(axis=1)\n",
    "        .to_dict()\n",
    "    )\n",
    "    return dict_temp"
   ]
  },
  {
   "cell_type": "markdown",
   "id": "32ce3e66-fddc-47a3-b535-e0975d6d21af",
   "metadata": {},
   "source": [
    "# Se carga el conjunto de datos"
   ]
  },
  {
   "cell_type": "code",
   "execution_count": 3,
   "id": "64bcf20e-570d-4b04-9c53-f99675f8e95e",
   "metadata": {
    "execution": {
     "iopub.execute_input": "2022-06-03T05:22:09.987636Z",
     "iopub.status.busy": "2022-06-03T05:22:09.987576Z",
     "iopub.status.idle": "2022-06-03T05:22:45.033017Z",
     "shell.execute_reply": "2022-06-03T05:22:45.030071Z",
     "shell.execute_reply.started": "2022-06-03T05:22:09.987628Z"
    },
    "tags": []
   },
   "outputs": [],
   "source": [
    "data = pd.read_csv('Archivos/220507COVID19MEXICO.csv')"
   ]
  },
  {
   "cell_type": "code",
   "execution_count": 4,
   "id": "a47c106e-365d-4a97-9a77-3edf433259ed",
   "metadata": {
    "execution": {
     "iopub.execute_input": "2022-06-03T05:22:45.040900Z",
     "iopub.status.busy": "2022-06-03T05:22:45.040224Z",
     "iopub.status.idle": "2022-06-03T05:22:45.605212Z",
     "shell.execute_reply": "2022-06-03T05:22:45.604900Z",
     "shell.execute_reply.started": "2022-06-03T05:22:45.040888Z"
    },
    "tags": []
   },
   "outputs": [
    {
     "data": {
      "text/html": [
       "<div>\n",
       "<style scoped>\n",
       "    .dataframe tbody tr th:only-of-type {\n",
       "        vertical-align: middle;\n",
       "    }\n",
       "\n",
       "    .dataframe tbody tr th {\n",
       "        vertical-align: top;\n",
       "    }\n",
       "\n",
       "    .dataframe thead th {\n",
       "        text-align: right;\n",
       "    }\n",
       "</style>\n",
       "<table border=\"1\" class=\"dataframe\">\n",
       "  <thead>\n",
       "    <tr style=\"text-align: right;\">\n",
       "      <th></th>\n",
       "      <th>FECHA_ACTUALIZACION</th>\n",
       "      <th>ID_REGISTRO</th>\n",
       "      <th>ORIGEN</th>\n",
       "      <th>SECTOR</th>\n",
       "      <th>ENTIDAD_UM</th>\n",
       "      <th>SEXO</th>\n",
       "      <th>ENTIDAD_NAC</th>\n",
       "      <th>ENTIDAD_RES</th>\n",
       "      <th>MUNICIPIO_RES</th>\n",
       "      <th>TIPO_PACIENTE</th>\n",
       "      <th>...</th>\n",
       "      <th>OTRO_CASO</th>\n",
       "      <th>TOMA_MUESTRA_LAB</th>\n",
       "      <th>RESULTADO_LAB</th>\n",
       "      <th>TOMA_MUESTRA_ANTIGENO</th>\n",
       "      <th>RESULTADO_ANTIGENO</th>\n",
       "      <th>CLASIFICACION_FINAL</th>\n",
       "      <th>MIGRANTE</th>\n",
       "      <th>PAIS_NACIONALIDAD</th>\n",
       "      <th>PAIS_ORIGEN</th>\n",
       "      <th>UCI</th>\n",
       "    </tr>\n",
       "  </thead>\n",
       "  <tbody>\n",
       "    <tr>\n",
       "      <th>0</th>\n",
       "      <td>2022-05-07</td>\n",
       "      <td>z45dcb</td>\n",
       "      <td>2</td>\n",
       "      <td>12</td>\n",
       "      <td>9</td>\n",
       "      <td>2</td>\n",
       "      <td>9</td>\n",
       "      <td>9</td>\n",
       "      <td>3</td>\n",
       "      <td>1</td>\n",
       "      <td>...</td>\n",
       "      <td>1</td>\n",
       "      <td>1</td>\n",
       "      <td>2</td>\n",
       "      <td>2</td>\n",
       "      <td>97</td>\n",
       "      <td>7</td>\n",
       "      <td>99</td>\n",
       "      <td>México</td>\n",
       "      <td>97</td>\n",
       "      <td>97</td>\n",
       "    </tr>\n",
       "    <tr>\n",
       "      <th>1</th>\n",
       "      <td>2022-05-07</td>\n",
       "      <td>z477ab</td>\n",
       "      <td>1</td>\n",
       "      <td>12</td>\n",
       "      <td>12</td>\n",
       "      <td>2</td>\n",
       "      <td>12</td>\n",
       "      <td>12</td>\n",
       "      <td>59</td>\n",
       "      <td>2</td>\n",
       "      <td>...</td>\n",
       "      <td>2</td>\n",
       "      <td>2</td>\n",
       "      <td>97</td>\n",
       "      <td>2</td>\n",
       "      <td>97</td>\n",
       "      <td>6</td>\n",
       "      <td>99</td>\n",
       "      <td>México</td>\n",
       "      <td>97</td>\n",
       "      <td>2</td>\n",
       "    </tr>\n",
       "    <tr>\n",
       "      <th>2</th>\n",
       "      <td>2022-05-07</td>\n",
       "      <td>zz5293</td>\n",
       "      <td>1</td>\n",
       "      <td>12</td>\n",
       "      <td>29</td>\n",
       "      <td>1</td>\n",
       "      <td>29</td>\n",
       "      <td>29</td>\n",
       "      <td>5</td>\n",
       "      <td>1</td>\n",
       "      <td>...</td>\n",
       "      <td>2</td>\n",
       "      <td>1</td>\n",
       "      <td>2</td>\n",
       "      <td>2</td>\n",
       "      <td>97</td>\n",
       "      <td>7</td>\n",
       "      <td>99</td>\n",
       "      <td>México</td>\n",
       "      <td>97</td>\n",
       "      <td>97</td>\n",
       "    </tr>\n",
       "    <tr>\n",
       "      <th>3</th>\n",
       "      <td>2022-05-07</td>\n",
       "      <td>z1d9a5</td>\n",
       "      <td>1</td>\n",
       "      <td>12</td>\n",
       "      <td>22</td>\n",
       "      <td>2</td>\n",
       "      <td>9</td>\n",
       "      <td>22</td>\n",
       "      <td>14</td>\n",
       "      <td>1</td>\n",
       "      <td>...</td>\n",
       "      <td>2</td>\n",
       "      <td>1</td>\n",
       "      <td>1</td>\n",
       "      <td>2</td>\n",
       "      <td>97</td>\n",
       "      <td>3</td>\n",
       "      <td>99</td>\n",
       "      <td>México</td>\n",
       "      <td>97</td>\n",
       "      <td>97</td>\n",
       "    </tr>\n",
       "    <tr>\n",
       "      <th>4</th>\n",
       "      <td>2022-05-07</td>\n",
       "      <td>z1da2d</td>\n",
       "      <td>1</td>\n",
       "      <td>12</td>\n",
       "      <td>2</td>\n",
       "      <td>1</td>\n",
       "      <td>2</td>\n",
       "      <td>2</td>\n",
       "      <td>4</td>\n",
       "      <td>2</td>\n",
       "      <td>...</td>\n",
       "      <td>99</td>\n",
       "      <td>2</td>\n",
       "      <td>97</td>\n",
       "      <td>2</td>\n",
       "      <td>97</td>\n",
       "      <td>6</td>\n",
       "      <td>99</td>\n",
       "      <td>México</td>\n",
       "      <td>97</td>\n",
       "      <td>2</td>\n",
       "    </tr>\n",
       "  </tbody>\n",
       "</table>\n",
       "<p>5 rows × 40 columns</p>\n",
       "</div>"
      ],
      "text/plain": [
       "  FECHA_ACTUALIZACION ID_REGISTRO  ORIGEN  SECTOR  ENTIDAD_UM  SEXO  \\\n",
       "0          2022-05-07      z45dcb       2      12           9     2   \n",
       "1          2022-05-07      z477ab       1      12          12     2   \n",
       "2          2022-05-07      zz5293       1      12          29     1   \n",
       "3          2022-05-07      z1d9a5       1      12          22     2   \n",
       "4          2022-05-07      z1da2d       1      12           2     1   \n",
       "\n",
       "   ENTIDAD_NAC  ENTIDAD_RES  MUNICIPIO_RES  TIPO_PACIENTE  ... OTRO_CASO  \\\n",
       "0            9            9              3              1  ...         1   \n",
       "1           12           12             59              2  ...         2   \n",
       "2           29           29              5              1  ...         2   \n",
       "3            9           22             14              1  ...         2   \n",
       "4            2            2              4              2  ...        99   \n",
       "\n",
       "  TOMA_MUESTRA_LAB RESULTADO_LAB  TOMA_MUESTRA_ANTIGENO  RESULTADO_ANTIGENO  \\\n",
       "0                1             2                      2                  97   \n",
       "1                2            97                      2                  97   \n",
       "2                1             2                      2                  97   \n",
       "3                1             1                      2                  97   \n",
       "4                2            97                      2                  97   \n",
       "\n",
       "   CLASIFICACION_FINAL  MIGRANTE  PAIS_NACIONALIDAD  PAIS_ORIGEN  UCI  \n",
       "0                    7        99             México           97   97  \n",
       "1                    6        99             México           97    2  \n",
       "2                    7        99             México           97   97  \n",
       "3                    3        99             México           97   97  \n",
       "4                    6        99             México           97    2  \n",
       "\n",
       "[5 rows x 40 columns]"
      ]
     },
     "execution_count": 4,
     "metadata": {},
     "output_type": "execute_result"
    }
   ],
   "source": [
    "data.head()"
   ]
  },
  {
   "cell_type": "markdown",
   "id": "98339552-6a46-4eca-8d16-3a6dfeef2e77",
   "metadata": {},
   "source": [
    "# Se cargan los archivos para realizar el mapeo"
   ]
  },
  {
   "cell_type": "code",
   "execution_count": 5,
   "id": "20cfff04-7ffb-4438-8972-fb2f2654b2c4",
   "metadata": {
    "execution": {
     "iopub.execute_input": "2022-06-03T05:22:45.606930Z",
     "iopub.status.busy": "2022-06-03T05:22:45.606841Z",
     "iopub.status.idle": "2022-06-03T05:22:45.625098Z",
     "shell.execute_reply": "2022-06-03T05:22:45.624849Z",
     "shell.execute_reply.started": "2022-06-03T05:22:45.606921Z"
    },
    "tags": []
   },
   "outputs": [],
   "source": [
    "origen = frameToDict('Archivos/origen.csv')\n",
    "sector = frameToDict('Archivos/sector.csv')\n",
    "entidades = frameToDict('Archivos/entidades.csv')\n",
    "sexo = frameToDict('Archivos/sexo.csv')\n",
    "municipios = frameToDict('Archivos/municipios.csv')\n",
    "paciente = frameToDict('Archivos/paciente.csv')\n",
    "nacionalidad = frameToDict('Archivos/nacionalidad.csv')\n",
    "si_no = frameToDict('Archivos/si-no.csv')\n",
    "resultado_laboratorio = frameToDict('Archivos/resultado_laboratorio.csv')\n",
    "resultados_antigenos = frameToDict('Archivos/resultado_antigenos.csv')"
   ]
  },
  {
   "cell_type": "markdown",
   "id": "cbd19ce5-20eb-4021-95bb-a68cf86170f7",
   "metadata": {},
   "source": [
    "# Se replazan todas las columnas"
   ]
  },
  {
   "cell_type": "code",
   "execution_count": 6,
   "id": "2e0a4b41-e880-479a-ac15-7cd8ee9b05d3",
   "metadata": {
    "execution": {
     "iopub.execute_input": "2022-06-03T05:22:45.625537Z",
     "iopub.status.busy": "2022-06-03T05:22:45.625479Z",
     "iopub.status.idle": "2022-06-03T05:24:26.849248Z",
     "shell.execute_reply": "2022-06-03T05:24:26.848541Z",
     "shell.execute_reply.started": "2022-06-03T05:22:45.625530Z"
    },
    "tags": []
   },
   "outputs": [],
   "source": [
    "data.ORIGEN = data.ORIGEN.replace(origen)\n",
    "data.SECTOR = data.SECTOR.replace(sector)\n",
    "data.ENTIDAD_UM = data.ENTIDAD_UM.replace(entidades)\n",
    "data.SEXO = data.SEXO.replace(sexo)\n",
    "data.ENTIDAD_NAC = data.ENTIDAD_NAC.replace(entidades)\n",
    "data.ENTIDAD_RES = data.ENTIDAD_RES.replace(entidades)\n",
    "data.MUNICIPIO_RES = data.MUNICIPIO_RES.replace(municipios)\n",
    "data.TIPO_PACIENTE = data.TIPO_PACIENTE.replace(paciente)\n",
    "data.NEUMONIA = data.NEUMONIA.replace(si_no)\n",
    "data.NACIONALIDAD = data.NACIONALIDAD.replace(nacionalidad)\n",
    "data.EMBARAZO = data.EMBARAZO.replace(si_no)\n",
    "data.HABLA_LENGUA_INDIG = data.HABLA_LENGUA_INDIG.replace(si_no)\n",
    "data.INDIGENA = data.INDIGENA.replace(si_no)\n",
    "data.DIABETES = data.DIABETES.replace(si_no)\n",
    "data.EPOC = data.EPOC.replace(si_no)\n",
    "data.ASMA = data.ASMA.replace(si_no)\n",
    "data.INMUSUPR = data.INMUSUPR.replace(si_no)\n",
    "data.HIPERTENSION = data.HIPERTENSION.replace(si_no)\n",
    "data.OTRA_COM = data.OTRA_COM.replace(si_no)\n",
    "data.CARDIOVASCULAR = data.CARDIOVASCULAR.replace(si_no)\n",
    "data.OBESIDAD = data.OBESIDAD.replace(si_no)\n",
    "data.RENAL_CRONICA = data.RENAL_CRONICA.replace(si_no)\n",
    "data.TABAQUISMO = data.TABAQUISMO.replace(si_no)\n",
    "data.OTRO_CASO = data.OTRO_CASO.replace(si_no)\n",
    "data.TOMA_MUESTRA_LAB = data.TOMA_MUESTRA_LAB.replace(si_no)\n",
    "data.TOMA_MUESTRA_ANTIGENO = data.TOMA_MUESTRA_ANTIGENO.replace(si_no)\n",
    "data.MIGRANTE = data.MIGRANTE.replace(si_no)\n",
    "data.UCI = data.UCI.replace(si_no)\n",
    "data.FECHA_INGRESO = pd.to_datetime(data.FECHA_INGRESO, format='%Y-%m-%dT')\n",
    "data.FECHA_SINTOMAS = pd.to_datetime(data.FECHA_SINTOMAS, format='%Y-%m-%dT')\n",
    "data.INTUBADO = data.INTUBADO.replace(si_no)\n",
    "data.RESULTADO_LAB = data.RESULTADO_LAB.replace(resultado_laboratorio)\n",
    "data.RESULTADO_ANTIGENO = data.RESULTADO_ANTIGENO.replace(resultados_antigenos)"
   ]
  },
  {
   "cell_type": "code",
   "execution_count": 7,
   "id": "3aab455d-d5c2-4590-85c7-520c6dd6c08b",
   "metadata": {
    "execution": {
     "iopub.execute_input": "2022-06-03T05:24:26.853808Z",
     "iopub.status.busy": "2022-06-03T05:24:26.853644Z",
     "iopub.status.idle": "2022-06-03T05:24:26.868449Z",
     "shell.execute_reply": "2022-06-03T05:24:26.868052Z",
     "shell.execute_reply.started": "2022-06-03T05:24:26.853796Z"
    },
    "tags": []
   },
   "outputs": [
    {
     "data": {
      "text/html": [
       "<div>\n",
       "<style scoped>\n",
       "    .dataframe tbody tr th:only-of-type {\n",
       "        vertical-align: middle;\n",
       "    }\n",
       "\n",
       "    .dataframe tbody tr th {\n",
       "        vertical-align: top;\n",
       "    }\n",
       "\n",
       "    .dataframe thead th {\n",
       "        text-align: right;\n",
       "    }\n",
       "</style>\n",
       "<table border=\"1\" class=\"dataframe\">\n",
       "  <thead>\n",
       "    <tr style=\"text-align: right;\">\n",
       "      <th></th>\n",
       "      <th>FECHA_ACTUALIZACION</th>\n",
       "      <th>ID_REGISTRO</th>\n",
       "      <th>ORIGEN</th>\n",
       "      <th>SECTOR</th>\n",
       "      <th>ENTIDAD_UM</th>\n",
       "      <th>SEXO</th>\n",
       "      <th>ENTIDAD_NAC</th>\n",
       "      <th>ENTIDAD_RES</th>\n",
       "      <th>MUNICIPIO_RES</th>\n",
       "      <th>TIPO_PACIENTE</th>\n",
       "      <th>...</th>\n",
       "      <th>OTRO_CASO</th>\n",
       "      <th>TOMA_MUESTRA_LAB</th>\n",
       "      <th>RESULTADO_LAB</th>\n",
       "      <th>TOMA_MUESTRA_ANTIGENO</th>\n",
       "      <th>RESULTADO_ANTIGENO</th>\n",
       "      <th>CLASIFICACION_FINAL</th>\n",
       "      <th>MIGRANTE</th>\n",
       "      <th>PAIS_NACIONALIDAD</th>\n",
       "      <th>PAIS_ORIGEN</th>\n",
       "      <th>UCI</th>\n",
       "    </tr>\n",
       "  </thead>\n",
       "  <tbody>\n",
       "    <tr>\n",
       "      <th>0</th>\n",
       "      <td>2022-05-07</td>\n",
       "      <td>z45dcb</td>\n",
       "      <td>FUERA DE USMER</td>\n",
       "      <td>SSA</td>\n",
       "      <td>CIUDAD DE MÉXICO</td>\n",
       "      <td>HOMBRE</td>\n",
       "      <td>CIUDAD DE MÉXICO</td>\n",
       "      <td>CIUDAD DE MÉXICO</td>\n",
       "      <td>ATOLINGA</td>\n",
       "      <td>AMBULATORIO</td>\n",
       "      <td>...</td>\n",
       "      <td>SI</td>\n",
       "      <td>SI</td>\n",
       "      <td>NO POSITIVO A SARS-COV-2</td>\n",
       "      <td>NO</td>\n",
       "      <td>NO APLICA (CASO SIN MUESTRA)</td>\n",
       "      <td>7</td>\n",
       "      <td>NO ESPECIFICADO</td>\n",
       "      <td>México</td>\n",
       "      <td>97</td>\n",
       "      <td>NO APLICA</td>\n",
       "    </tr>\n",
       "    <tr>\n",
       "      <th>1</th>\n",
       "      <td>2022-05-07</td>\n",
       "      <td>z477ab</td>\n",
       "      <td>USMER</td>\n",
       "      <td>SSA</td>\n",
       "      <td>GUERRERO</td>\n",
       "      <td>HOMBRE</td>\n",
       "      <td>GUERRERO</td>\n",
       "      <td>GUERRERO</td>\n",
       "      <td>PROGRESO</td>\n",
       "      <td>HOSPITALIZADO</td>\n",
       "      <td>...</td>\n",
       "      <td>NO</td>\n",
       "      <td>NO</td>\n",
       "      <td>NO APLICA (CASO SIN MUESTRA)</td>\n",
       "      <td>NO</td>\n",
       "      <td>NO APLICA (CASO SIN MUESTRA)</td>\n",
       "      <td>6</td>\n",
       "      <td>NO ESPECIFICADO</td>\n",
       "      <td>México</td>\n",
       "      <td>97</td>\n",
       "      <td>NO</td>\n",
       "    </tr>\n",
       "    <tr>\n",
       "      <th>2</th>\n",
       "      <td>2022-05-07</td>\n",
       "      <td>zz5293</td>\n",
       "      <td>USMER</td>\n",
       "      <td>SSA</td>\n",
       "      <td>TLAXCALA</td>\n",
       "      <td>MUJER</td>\n",
       "      <td>TLAXCALA</td>\n",
       "      <td>TLAXCALA</td>\n",
       "      <td>CALERA</td>\n",
       "      <td>AMBULATORIO</td>\n",
       "      <td>...</td>\n",
       "      <td>NO</td>\n",
       "      <td>SI</td>\n",
       "      <td>NO POSITIVO A SARS-COV-2</td>\n",
       "      <td>NO</td>\n",
       "      <td>NO APLICA (CASO SIN MUESTRA)</td>\n",
       "      <td>7</td>\n",
       "      <td>NO ESPECIFICADO</td>\n",
       "      <td>México</td>\n",
       "      <td>97</td>\n",
       "      <td>NO APLICA</td>\n",
       "    </tr>\n",
       "    <tr>\n",
       "      <th>3</th>\n",
       "      <td>2022-05-07</td>\n",
       "      <td>z1d9a5</td>\n",
       "      <td>USMER</td>\n",
       "      <td>SSA</td>\n",
       "      <td>QUERÉTARO</td>\n",
       "      <td>HOMBRE</td>\n",
       "      <td>CIUDAD DE MÉXICO</td>\n",
       "      <td>QUERÉTARO</td>\n",
       "      <td>GENERAL FRANCISCO R. MURGUÍA</td>\n",
       "      <td>AMBULATORIO</td>\n",
       "      <td>...</td>\n",
       "      <td>NO</td>\n",
       "      <td>SI</td>\n",
       "      <td>POSITIVO A SARS-COV-2</td>\n",
       "      <td>NO</td>\n",
       "      <td>NO APLICA (CASO SIN MUESTRA)</td>\n",
       "      <td>3</td>\n",
       "      <td>NO ESPECIFICADO</td>\n",
       "      <td>México</td>\n",
       "      <td>97</td>\n",
       "      <td>NO APLICA</td>\n",
       "    </tr>\n",
       "    <tr>\n",
       "      <th>4</th>\n",
       "      <td>2022-05-07</td>\n",
       "      <td>z1da2d</td>\n",
       "      <td>USMER</td>\n",
       "      <td>SSA</td>\n",
       "      <td>BAJA CALIFORNIA</td>\n",
       "      <td>MUJER</td>\n",
       "      <td>BAJA CALIFORNIA</td>\n",
       "      <td>BAJA CALIFORNIA</td>\n",
       "      <td>BENITO JUÁREZ</td>\n",
       "      <td>HOSPITALIZADO</td>\n",
       "      <td>...</td>\n",
       "      <td>NO ESPECIFICADO</td>\n",
       "      <td>NO</td>\n",
       "      <td>NO APLICA (CASO SIN MUESTRA)</td>\n",
       "      <td>NO</td>\n",
       "      <td>NO APLICA (CASO SIN MUESTRA)</td>\n",
       "      <td>6</td>\n",
       "      <td>NO ESPECIFICADO</td>\n",
       "      <td>México</td>\n",
       "      <td>97</td>\n",
       "      <td>NO</td>\n",
       "    </tr>\n",
       "  </tbody>\n",
       "</table>\n",
       "<p>5 rows × 40 columns</p>\n",
       "</div>"
      ],
      "text/plain": [
       "  FECHA_ACTUALIZACION ID_REGISTRO          ORIGEN SECTOR        ENTIDAD_UM  \\\n",
       "0          2022-05-07      z45dcb  FUERA DE USMER    SSA  CIUDAD DE MÉXICO   \n",
       "1          2022-05-07      z477ab           USMER    SSA          GUERRERO   \n",
       "2          2022-05-07      zz5293           USMER    SSA          TLAXCALA   \n",
       "3          2022-05-07      z1d9a5           USMER    SSA         QUERÉTARO   \n",
       "4          2022-05-07      z1da2d           USMER    SSA   BAJA CALIFORNIA   \n",
       "\n",
       "     SEXO       ENTIDAD_NAC       ENTIDAD_RES                 MUNICIPIO_RES  \\\n",
       "0  HOMBRE  CIUDAD DE MÉXICO  CIUDAD DE MÉXICO                      ATOLINGA   \n",
       "1  HOMBRE          GUERRERO          GUERRERO                      PROGRESO   \n",
       "2   MUJER          TLAXCALA          TLAXCALA                        CALERA   \n",
       "3  HOMBRE  CIUDAD DE MÉXICO         QUERÉTARO  GENERAL FRANCISCO R. MURGUÍA   \n",
       "4   MUJER   BAJA CALIFORNIA   BAJA CALIFORNIA                 BENITO JUÁREZ   \n",
       "\n",
       "   TIPO_PACIENTE  ...        OTRO_CASO TOMA_MUESTRA_LAB  \\\n",
       "0    AMBULATORIO  ...              SI               SI    \n",
       "1  HOSPITALIZADO  ...              NO               NO    \n",
       "2    AMBULATORIO  ...              NO               SI    \n",
       "3    AMBULATORIO  ...              NO               SI    \n",
       "4  HOSPITALIZADO  ...  NO ESPECIFICADO              NO    \n",
       "\n",
       "                  RESULTADO_LAB TOMA_MUESTRA_ANTIGENO  \\\n",
       "0      NO POSITIVO A SARS-COV-2                   NO    \n",
       "1  NO APLICA (CASO SIN MUESTRA)                   NO    \n",
       "2      NO POSITIVO A SARS-COV-2                   NO    \n",
       "3         POSITIVO A SARS-COV-2                   NO    \n",
       "4  NO APLICA (CASO SIN MUESTRA)                   NO    \n",
       "\n",
       "             RESULTADO_ANTIGENO  CLASIFICACION_FINAL         MIGRANTE  \\\n",
       "0  NO APLICA (CASO SIN MUESTRA)                    7  NO ESPECIFICADO   \n",
       "1  NO APLICA (CASO SIN MUESTRA)                    6  NO ESPECIFICADO   \n",
       "2  NO APLICA (CASO SIN MUESTRA)                    7  NO ESPECIFICADO   \n",
       "3  NO APLICA (CASO SIN MUESTRA)                    3  NO ESPECIFICADO   \n",
       "4  NO APLICA (CASO SIN MUESTRA)                    6  NO ESPECIFICADO   \n",
       "\n",
       "  PAIS_NACIONALIDAD PAIS_ORIGEN        UCI  \n",
       "0            México          97  NO APLICA  \n",
       "1            México          97        NO   \n",
       "2            México          97  NO APLICA  \n",
       "3            México          97  NO APLICA  \n",
       "4            México          97        NO   \n",
       "\n",
       "[5 rows x 40 columns]"
      ]
     },
     "execution_count": 7,
     "metadata": {},
     "output_type": "execute_result"
    }
   ],
   "source": [
    "data.head()"
   ]
  },
  {
   "cell_type": "markdown",
   "id": "f74bfca3-db95-4d0a-9312-f2aa0bb5a81c",
   "metadata": {},
   "source": [
    "# Se verifica que no existan valores nulos"
   ]
  },
  {
   "cell_type": "code",
   "execution_count": 8,
   "id": "6e0db15a-199c-4c37-8c7f-16e99a370348",
   "metadata": {
    "execution": {
     "iopub.execute_input": "2022-06-03T05:24:26.869859Z",
     "iopub.status.busy": "2022-06-03T05:24:26.869726Z",
     "iopub.status.idle": "2022-06-03T05:24:26.894913Z",
     "shell.execute_reply": "2022-06-03T05:24:26.894647Z",
     "shell.execute_reply.started": "2022-06-03T05:24:26.869847Z"
    },
    "tags": []
   },
   "outputs": [
    {
     "name": "stdout",
     "output_type": "stream",
     "text": [
      "<class 'pandas.core.frame.DataFrame'>\n",
      "RangeIndex: 15855490 entries, 0 to 15855489\n",
      "Data columns (total 40 columns):\n",
      " #   Column                 Dtype         \n",
      "---  ------                 -----         \n",
      " 0   FECHA_ACTUALIZACION    object        \n",
      " 1   ID_REGISTRO            object        \n",
      " 2   ORIGEN                 object        \n",
      " 3   SECTOR                 object        \n",
      " 4   ENTIDAD_UM             object        \n",
      " 5   SEXO                   object        \n",
      " 6   ENTIDAD_NAC            object        \n",
      " 7   ENTIDAD_RES            object        \n",
      " 8   MUNICIPIO_RES          object        \n",
      " 9   TIPO_PACIENTE          object        \n",
      " 10  FECHA_INGRESO          datetime64[ns]\n",
      " 11  FECHA_SINTOMAS         datetime64[ns]\n",
      " 12  FECHA_DEF              object        \n",
      " 13  INTUBADO               object        \n",
      " 14  NEUMONIA               object        \n",
      " 15  EDAD                   int64         \n",
      " 16  NACIONALIDAD           object        \n",
      " 17  EMBARAZO               object        \n",
      " 18  HABLA_LENGUA_INDIG     object        \n",
      " 19  INDIGENA               object        \n",
      " 20  DIABETES               object        \n",
      " 21  EPOC                   object        \n",
      " 22  ASMA                   object        \n",
      " 23  INMUSUPR               object        \n",
      " 24  HIPERTENSION           object        \n",
      " 25  OTRA_COM               object        \n",
      " 26  CARDIOVASCULAR         object        \n",
      " 27  OBESIDAD               object        \n",
      " 28  RENAL_CRONICA          object        \n",
      " 29  TABAQUISMO             object        \n",
      " 30  OTRO_CASO              object        \n",
      " 31  TOMA_MUESTRA_LAB       object        \n",
      " 32  RESULTADO_LAB          object        \n",
      " 33  TOMA_MUESTRA_ANTIGENO  object        \n",
      " 34  RESULTADO_ANTIGENO     object        \n",
      " 35  CLASIFICACION_FINAL    int64         \n",
      " 36  MIGRANTE               object        \n",
      " 37  PAIS_NACIONALIDAD      object        \n",
      " 38  PAIS_ORIGEN            object        \n",
      " 39  UCI                    object        \n",
      "dtypes: datetime64[ns](2), int64(2), object(36)\n",
      "memory usage: 4.7+ GB\n"
     ]
    }
   ],
   "source": [
    "data.info()"
   ]
  },
  {
   "cell_type": "markdown",
   "id": "9b135f5d-99ec-44ad-a4cc-2c5afbc3ccde",
   "metadata": {},
   "source": [
    "# Se crean las etiquetas a utilizar"
   ]
  },
  {
   "cell_type": "markdown",
   "id": "0573778e-a005-4c85-9a82-534d7842a325",
   "metadata": {},
   "source": [
    "**Si el paciente es positivo a COVID**"
   ]
  },
  {
   "cell_type": "code",
   "execution_count": 9,
   "id": "4853be2e-df9f-49ed-bb17-6aefd469d7e6",
   "metadata": {
    "execution": {
     "iopub.execute_input": "2022-06-03T05:24:26.895574Z",
     "iopub.status.busy": "2022-06-03T05:24:26.895461Z",
     "iopub.status.idle": "2022-06-03T05:25:03.772703Z",
     "shell.execute_reply": "2022-06-03T05:25:03.771573Z",
     "shell.execute_reply.started": "2022-06-03T05:24:26.895564Z"
    },
    "tags": []
   },
   "outputs": [],
   "source": [
    "target_name = 'CLASIFICACION_FINAL'\n",
    "target = data[target_name]\n",
    "data = data.drop(columns=[target_name])\n",
    "# Si la clasificacion final es 1,2 o 3 el paciente fue positivo\n",
    "data['CONFIRMADO'] = pd.Series(np.where(target <=3, 1, 0))"
   ]
  },
  {
   "cell_type": "markdown",
   "id": "c9762082-c7e2-4808-98b0-93e92c11d101",
   "metadata": {},
   "source": [
    "**Si el paciente fallecio**"
   ]
  },
  {
   "cell_type": "code",
   "execution_count": 10,
   "id": "659f9ebd-fc80-42f4-8d1d-8994b28999f5",
   "metadata": {
    "execution": {
     "iopub.execute_input": "2022-06-03T05:25:03.780532Z",
     "iopub.status.busy": "2022-06-03T05:25:03.780341Z",
     "iopub.status.idle": "2022-06-03T05:25:13.560772Z",
     "shell.execute_reply": "2022-06-03T05:25:13.560210Z",
     "shell.execute_reply.started": "2022-06-03T05:25:03.780518Z"
    },
    "tags": []
   },
   "outputs": [],
   "source": [
    "target_name = 'FECHA_DEF'\n",
    "target = data[target_name]\n",
    "data = data.drop(columns=[target_name])\n",
    "data['DEFUNCION'] = pd.Series(np.where(target!='9999-99-99',1,0))"
   ]
  },
  {
   "cell_type": "markdown",
   "id": "300d6b3e-b716-45f4-8c61-8b87fe05b6b5",
   "metadata": {},
   "source": [
    "# Preprocesamiento necesario"
   ]
  },
  {
   "cell_type": "markdown",
   "id": "89e231f3-859a-400d-98cd-e1b956377543",
   "metadata": {},
   "source": [
    "**Se arreglan datos**"
   ]
  },
  {
   "cell_type": "code",
   "execution_count": 11,
   "id": "4f61f6bf-0f52-4c20-a9c8-7d7fa36882bd",
   "metadata": {
    "execution": {
     "iopub.execute_input": "2022-06-03T05:25:13.563877Z",
     "iopub.status.busy": "2022-06-03T05:25:13.563688Z",
     "iopub.status.idle": "2022-06-03T05:25:20.541153Z",
     "shell.execute_reply": "2022-06-03T05:25:20.539829Z",
     "shell.execute_reply.started": "2022-06-03T05:25:13.563866Z"
    },
    "tags": []
   },
   "outputs": [
    {
     "name": "stderr",
     "output_type": "stream",
     "text": [
      "/var/folders/jp/10my5v9d6dl9nk7f_t7g56840000gn/T/ipykernel_8878/1697555608.py:1: SettingWithCopyWarning: \n",
      "A value is trying to be set on a copy of a slice from a DataFrame\n",
      "\n",
      "See the caveats in the documentation: https://pandas.pydata.org/pandas-docs/stable/user_guide/indexing.html#returning-a-view-versus-a-copy\n",
      "  data.PAIS_ORIGEN[(data.PAIS_ORIGEN == 97) | (data.PAIS_ORIGEN == '97')] = 'NO APLICA'\n"
     ]
    }
   ],
   "source": [
    "data.PAIS_ORIGEN[(data.PAIS_ORIGEN == 97) | (data.PAIS_ORIGEN == '97')] = 'NO APLICA'"
   ]
  },
  {
   "cell_type": "markdown",
   "id": "2c0d16e5-0db9-4be3-a328-75b0d5692f29",
   "metadata": {},
   "source": [
    "**Se descartan las dos primeras columnas**"
   ]
  },
  {
   "cell_type": "code",
   "execution_count": 12,
   "id": "82ceef59-0f70-4d1a-adc5-a75e9dd38365",
   "metadata": {
    "execution": {
     "iopub.execute_input": "2022-06-03T05:25:20.548570Z",
     "iopub.status.busy": "2022-06-03T05:25:20.547398Z",
     "iopub.status.idle": "2022-06-03T05:26:01.859383Z",
     "shell.execute_reply": "2022-06-03T05:26:01.856121Z",
     "shell.execute_reply.started": "2022-06-03T05:25:20.548547Z"
    },
    "tags": []
   },
   "outputs": [],
   "source": [
    "columns_to_drop = ['FECHA_ACTUALIZACION','ID_REGISTRO']\n",
    "data = data.drop(columns=columns_to_drop)"
   ]
  },
  {
   "cell_type": "markdown",
   "id": "851d1153-d7a7-42b7-bc53-bac05de28009",
   "metadata": {},
   "source": [
    "**Se descartan las primeras dos columnas**"
   ]
  },
  {
   "cell_type": "code",
   "execution_count": 13,
   "id": "e0bcaf2f-da9b-4e87-a9f0-53a1c7a32e63",
   "metadata": {
    "execution": {
     "iopub.execute_input": "2022-06-03T05:26:01.874582Z",
     "iopub.status.busy": "2022-06-03T05:26:01.872500Z",
     "iopub.status.idle": "2022-06-03T05:26:49.262118Z",
     "shell.execute_reply": "2022-06-03T05:26:49.260984Z",
     "shell.execute_reply.started": "2022-06-03T05:26:01.874565Z"
    }
   },
   "outputs": [
    {
     "name": "stdout",
     "output_type": "stream",
     "text": [
      "Duplicated instances: 674695\n"
     ]
    }
   ],
   "source": [
    "total = data.shape[0]\n",
    "data = data.drop_duplicates()\n",
    "print(f'Duplicated instances: {total - data.shape[0]}')"
   ]
  },
  {
   "cell_type": "markdown",
   "id": "a6999015-2ab7-49b2-9727-4866e4f9c557",
   "metadata": {
    "execution": {
     "iopub.execute_input": "2022-06-03T02:07:51.323909Z",
     "iopub.status.busy": "2022-06-03T02:07:51.322734Z",
     "iopub.status.idle": "2022-06-03T02:07:51.341995Z",
     "shell.execute_reply": "2022-06-03T02:07:51.341042Z",
     "shell.execute_reply.started": "2022-06-03T02:07:51.323838Z"
    }
   },
   "source": [
    "**Se pasan las fechas a numero ordinarios**"
   ]
  },
  {
   "cell_type": "code",
   "execution_count": 14,
   "id": "94b63d58-cf5e-4472-ab13-48bf5e1ccd8c",
   "metadata": {
    "execution": {
     "iopub.execute_input": "2022-06-03T05:26:49.291665Z",
     "iopub.status.busy": "2022-06-03T05:26:49.291506Z",
     "iopub.status.idle": "2022-06-03T05:27:11.351710Z",
     "shell.execute_reply": "2022-06-03T05:27:11.350104Z",
     "shell.execute_reply.started": "2022-06-03T05:26:49.291652Z"
    }
   },
   "outputs": [],
   "source": [
    "# Number of days since January 1 of year 1\n",
    "data.FECHA_INGRESO = pd.to_datetime(data.FECHA_INGRESO).apply(pd.Timestamp.toordinal)\n",
    "data.FECHA_SINTOMAS = pd.to_datetime(data.FECHA_SINTOMAS).apply(pd.Timestamp.toordinal)"
   ]
  },
  {
   "cell_type": "code",
   "execution_count": 15,
   "id": "5206cfd4-2ada-4879-b3fe-c20c8839f657",
   "metadata": {
    "execution": {
     "iopub.execute_input": "2022-06-03T05:27:11.353464Z",
     "iopub.status.busy": "2022-06-03T05:27:11.353323Z",
     "iopub.status.idle": "2022-06-03T05:27:11.468568Z",
     "shell.execute_reply": "2022-06-03T05:27:11.468274Z",
     "shell.execute_reply.started": "2022-06-03T05:27:11.353453Z"
    },
    "tags": []
   },
   "outputs": [],
   "source": [
    "data.FECHA_INGRESO = data.FECHA_INGRESO - data.FECHA_INGRESO.min()\n",
    "data.FECHA_SINTOMAS = data.FECHA_SINTOMAS - data.FECHA_SINTOMAS.min()"
   ]
  },
  {
   "cell_type": "code",
   "execution_count": 16,
   "id": "e0d0a656-3bfc-4bf4-94a3-cf697ea17f35",
   "metadata": {
    "execution": {
     "iopub.execute_input": "2022-06-03T05:27:11.469165Z",
     "iopub.status.busy": "2022-06-03T05:27:11.469104Z",
     "iopub.status.idle": "2022-06-03T05:27:11.486540Z",
     "shell.execute_reply": "2022-06-03T05:27:11.486287Z",
     "shell.execute_reply.started": "2022-06-03T05:27:11.469157Z"
    },
    "tags": []
   },
   "outputs": [
    {
     "data": {
      "text/html": [
       "<div>\n",
       "<style scoped>\n",
       "    .dataframe tbody tr th:only-of-type {\n",
       "        vertical-align: middle;\n",
       "    }\n",
       "\n",
       "    .dataframe tbody tr th {\n",
       "        vertical-align: top;\n",
       "    }\n",
       "\n",
       "    .dataframe thead th {\n",
       "        text-align: right;\n",
       "    }\n",
       "</style>\n",
       "<table border=\"1\" class=\"dataframe\">\n",
       "  <thead>\n",
       "    <tr style=\"text-align: right;\">\n",
       "      <th></th>\n",
       "      <th>ORIGEN</th>\n",
       "      <th>SECTOR</th>\n",
       "      <th>ENTIDAD_UM</th>\n",
       "      <th>SEXO</th>\n",
       "      <th>ENTIDAD_NAC</th>\n",
       "      <th>ENTIDAD_RES</th>\n",
       "      <th>MUNICIPIO_RES</th>\n",
       "      <th>TIPO_PACIENTE</th>\n",
       "      <th>FECHA_INGRESO</th>\n",
       "      <th>FECHA_SINTOMAS</th>\n",
       "      <th>...</th>\n",
       "      <th>TOMA_MUESTRA_LAB</th>\n",
       "      <th>RESULTADO_LAB</th>\n",
       "      <th>TOMA_MUESTRA_ANTIGENO</th>\n",
       "      <th>RESULTADO_ANTIGENO</th>\n",
       "      <th>MIGRANTE</th>\n",
       "      <th>PAIS_NACIONALIDAD</th>\n",
       "      <th>PAIS_ORIGEN</th>\n",
       "      <th>UCI</th>\n",
       "      <th>CONFIRMADO</th>\n",
       "      <th>DEFUNCION</th>\n",
       "    </tr>\n",
       "  </thead>\n",
       "  <tbody>\n",
       "    <tr>\n",
       "      <th>0</th>\n",
       "      <td>FUERA DE USMER</td>\n",
       "      <td>SSA</td>\n",
       "      <td>CIUDAD DE MÉXICO</td>\n",
       "      <td>HOMBRE</td>\n",
       "      <td>CIUDAD DE MÉXICO</td>\n",
       "      <td>CIUDAD DE MÉXICO</td>\n",
       "      <td>ATOLINGA</td>\n",
       "      <td>AMBULATORIO</td>\n",
       "      <td>230</td>\n",
       "      <td>228</td>\n",
       "      <td>...</td>\n",
       "      <td>SI</td>\n",
       "      <td>NO POSITIVO A SARS-COV-2</td>\n",
       "      <td>NO</td>\n",
       "      <td>NO APLICA (CASO SIN MUESTRA)</td>\n",
       "      <td>NO ESPECIFICADO</td>\n",
       "      <td>México</td>\n",
       "      <td>NO APLICA</td>\n",
       "      <td>NO APLICA</td>\n",
       "      <td>0</td>\n",
       "      <td>0</td>\n",
       "    </tr>\n",
       "    <tr>\n",
       "      <th>1</th>\n",
       "      <td>USMER</td>\n",
       "      <td>SSA</td>\n",
       "      <td>GUERRERO</td>\n",
       "      <td>HOMBRE</td>\n",
       "      <td>GUERRERO</td>\n",
       "      <td>GUERRERO</td>\n",
       "      <td>PROGRESO</td>\n",
       "      <td>HOSPITALIZADO</td>\n",
       "      <td>153</td>\n",
       "      <td>147</td>\n",
       "      <td>...</td>\n",
       "      <td>NO</td>\n",
       "      <td>NO APLICA (CASO SIN MUESTRA)</td>\n",
       "      <td>NO</td>\n",
       "      <td>NO APLICA (CASO SIN MUESTRA)</td>\n",
       "      <td>NO ESPECIFICADO</td>\n",
       "      <td>México</td>\n",
       "      <td>NO APLICA</td>\n",
       "      <td>NO</td>\n",
       "      <td>0</td>\n",
       "      <td>0</td>\n",
       "    </tr>\n",
       "    <tr>\n",
       "      <th>2</th>\n",
       "      <td>USMER</td>\n",
       "      <td>SSA</td>\n",
       "      <td>TLAXCALA</td>\n",
       "      <td>MUJER</td>\n",
       "      <td>TLAXCALA</td>\n",
       "      <td>TLAXCALA</td>\n",
       "      <td>CALERA</td>\n",
       "      <td>AMBULATORIO</td>\n",
       "      <td>184</td>\n",
       "      <td>182</td>\n",
       "      <td>...</td>\n",
       "      <td>SI</td>\n",
       "      <td>NO POSITIVO A SARS-COV-2</td>\n",
       "      <td>NO</td>\n",
       "      <td>NO APLICA (CASO SIN MUESTRA)</td>\n",
       "      <td>NO ESPECIFICADO</td>\n",
       "      <td>México</td>\n",
       "      <td>NO APLICA</td>\n",
       "      <td>NO APLICA</td>\n",
       "      <td>0</td>\n",
       "      <td>0</td>\n",
       "    </tr>\n",
       "    <tr>\n",
       "      <th>3</th>\n",
       "      <td>USMER</td>\n",
       "      <td>SSA</td>\n",
       "      <td>QUERÉTARO</td>\n",
       "      <td>HOMBRE</td>\n",
       "      <td>CIUDAD DE MÉXICO</td>\n",
       "      <td>QUERÉTARO</td>\n",
       "      <td>GENERAL FRANCISCO R. MURGUÍA</td>\n",
       "      <td>AMBULATORIO</td>\n",
       "      <td>342</td>\n",
       "      <td>337</td>\n",
       "      <td>...</td>\n",
       "      <td>SI</td>\n",
       "      <td>POSITIVO A SARS-COV-2</td>\n",
       "      <td>NO</td>\n",
       "      <td>NO APLICA (CASO SIN MUESTRA)</td>\n",
       "      <td>NO ESPECIFICADO</td>\n",
       "      <td>México</td>\n",
       "      <td>NO APLICA</td>\n",
       "      <td>NO APLICA</td>\n",
       "      <td>1</td>\n",
       "      <td>0</td>\n",
       "    </tr>\n",
       "    <tr>\n",
       "      <th>4</th>\n",
       "      <td>USMER</td>\n",
       "      <td>SSA</td>\n",
       "      <td>BAJA CALIFORNIA</td>\n",
       "      <td>MUJER</td>\n",
       "      <td>BAJA CALIFORNIA</td>\n",
       "      <td>BAJA CALIFORNIA</td>\n",
       "      <td>BENITO JUÁREZ</td>\n",
       "      <td>HOSPITALIZADO</td>\n",
       "      <td>169</td>\n",
       "      <td>163</td>\n",
       "      <td>...</td>\n",
       "      <td>NO</td>\n",
       "      <td>NO APLICA (CASO SIN MUESTRA)</td>\n",
       "      <td>NO</td>\n",
       "      <td>NO APLICA (CASO SIN MUESTRA)</td>\n",
       "      <td>NO ESPECIFICADO</td>\n",
       "      <td>México</td>\n",
       "      <td>NO APLICA</td>\n",
       "      <td>NO</td>\n",
       "      <td>0</td>\n",
       "      <td>1</td>\n",
       "    </tr>\n",
       "  </tbody>\n",
       "</table>\n",
       "<p>5 rows × 38 columns</p>\n",
       "</div>"
      ],
      "text/plain": [
       "           ORIGEN SECTOR        ENTIDAD_UM    SEXO       ENTIDAD_NAC  \\\n",
       "0  FUERA DE USMER    SSA  CIUDAD DE MÉXICO  HOMBRE  CIUDAD DE MÉXICO   \n",
       "1           USMER    SSA          GUERRERO  HOMBRE          GUERRERO   \n",
       "2           USMER    SSA          TLAXCALA   MUJER          TLAXCALA   \n",
       "3           USMER    SSA         QUERÉTARO  HOMBRE  CIUDAD DE MÉXICO   \n",
       "4           USMER    SSA   BAJA CALIFORNIA   MUJER   BAJA CALIFORNIA   \n",
       "\n",
       "        ENTIDAD_RES                 MUNICIPIO_RES  TIPO_PACIENTE  \\\n",
       "0  CIUDAD DE MÉXICO                      ATOLINGA    AMBULATORIO   \n",
       "1          GUERRERO                      PROGRESO  HOSPITALIZADO   \n",
       "2          TLAXCALA                        CALERA    AMBULATORIO   \n",
       "3         QUERÉTARO  GENERAL FRANCISCO R. MURGUÍA    AMBULATORIO   \n",
       "4   BAJA CALIFORNIA                 BENITO JUÁREZ  HOSPITALIZADO   \n",
       "\n",
       "   FECHA_INGRESO  FECHA_SINTOMAS  ... TOMA_MUESTRA_LAB  \\\n",
       "0            230             228  ...              SI    \n",
       "1            153             147  ...              NO    \n",
       "2            184             182  ...              SI    \n",
       "3            342             337  ...              SI    \n",
       "4            169             163  ...              NO    \n",
       "\n",
       "                  RESULTADO_LAB  TOMA_MUESTRA_ANTIGENO  \\\n",
       "0      NO POSITIVO A SARS-COV-2                    NO    \n",
       "1  NO APLICA (CASO SIN MUESTRA)                    NO    \n",
       "2      NO POSITIVO A SARS-COV-2                    NO    \n",
       "3         POSITIVO A SARS-COV-2                    NO    \n",
       "4  NO APLICA (CASO SIN MUESTRA)                    NO    \n",
       "\n",
       "             RESULTADO_ANTIGENO         MIGRANTE PAIS_NACIONALIDAD  \\\n",
       "0  NO APLICA (CASO SIN MUESTRA)  NO ESPECIFICADO            México   \n",
       "1  NO APLICA (CASO SIN MUESTRA)  NO ESPECIFICADO            México   \n",
       "2  NO APLICA (CASO SIN MUESTRA)  NO ESPECIFICADO            México   \n",
       "3  NO APLICA (CASO SIN MUESTRA)  NO ESPECIFICADO            México   \n",
       "4  NO APLICA (CASO SIN MUESTRA)  NO ESPECIFICADO            México   \n",
       "\n",
       "  PAIS_ORIGEN        UCI CONFIRMADO DEFUNCION  \n",
       "0   NO APLICA  NO APLICA          0         0  \n",
       "1   NO APLICA        NO           0         0  \n",
       "2   NO APLICA  NO APLICA          0         0  \n",
       "3   NO APLICA  NO APLICA          1         0  \n",
       "4   NO APLICA        NO           0         1  \n",
       "\n",
       "[5 rows x 38 columns]"
      ]
     },
     "execution_count": 16,
     "metadata": {},
     "output_type": "execute_result"
    }
   ],
   "source": [
    "data.head()"
   ]
  },
  {
   "cell_type": "markdown",
   "id": "0246f8de-81c4-4737-b0d8-6601329fd4f8",
   "metadata": {},
   "source": [
    "# Se guardan los datos"
   ]
  },
  {
   "cell_type": "code",
   "execution_count": 17,
   "id": "b4efc9f3-3068-4405-832c-21328b72cc59",
   "metadata": {
    "execution": {
     "iopub.execute_input": "2022-06-03T05:27:11.487190Z",
     "iopub.status.busy": "2022-06-03T05:27:11.487100Z",
     "iopub.status.idle": "2022-06-03T05:28:48.817668Z",
     "shell.execute_reply": "2022-06-03T05:28:48.816186Z",
     "shell.execute_reply.started": "2022-06-03T05:27:11.487180Z"
    }
   },
   "outputs": [],
   "source": [
    "data.to_csv('all_atributes/covid_data_all_atributes.csv', index=False)"
   ]
  },
  {
   "cell_type": "markdown",
   "id": "0f3cdb73-1e97-4468-8b50-62753a153f52",
   "metadata": {},
   "source": [
    "# Se crean los conjuntos de entrenamiento y pruebas"
   ]
  },
  {
   "cell_type": "code",
   "execution_count": 18,
   "id": "3207c0ef-4891-4b3e-b817-ad4927bb8deb",
   "metadata": {
    "execution": {
     "iopub.execute_input": "2022-06-03T05:28:48.819873Z",
     "iopub.status.busy": "2022-06-03T05:28:48.819728Z",
     "iopub.status.idle": "2022-06-03T05:29:05.653970Z",
     "shell.execute_reply": "2022-06-03T05:29:05.653047Z",
     "shell.execute_reply.started": "2022-06-03T05:28:48.819862Z"
    },
    "tags": []
   },
   "outputs": [],
   "source": [
    "train_data, test_data = train_test_split(data, test_size=0.3, random_state=42)"
   ]
  },
  {
   "cell_type": "code",
   "execution_count": 19,
   "id": "775ffe79-8c25-4545-a82f-474cd950b691",
   "metadata": {
    "execution": {
     "iopub.execute_input": "2022-06-03T05:29:05.655899Z",
     "iopub.status.busy": "2022-06-03T05:29:05.655774Z",
     "iopub.status.idle": "2022-06-03T05:30:15.401833Z",
     "shell.execute_reply": "2022-06-03T05:30:15.400460Z",
     "shell.execute_reply.started": "2022-06-03T05:29:05.655889Z"
    },
    "tags": []
   },
   "outputs": [],
   "source": [
    "train_data.to_csv('all_atributes/all_atributes_train_data.csv', index=False)"
   ]
  },
  {
   "cell_type": "code",
   "execution_count": 20,
   "id": "2a4f8014-28b6-4b08-9745-e1f17cd4e226",
   "metadata": {
    "execution": {
     "iopub.execute_input": "2022-06-03T05:30:15.410272Z",
     "iopub.status.busy": "2022-06-03T05:30:15.409998Z",
     "iopub.status.idle": "2022-06-03T05:30:50.126344Z",
     "shell.execute_reply": "2022-06-03T05:30:50.125405Z",
     "shell.execute_reply.started": "2022-06-03T05:30:15.410258Z"
    },
    "tags": []
   },
   "outputs": [],
   "source": [
    "test_data.to_csv('all_atributes/all_atributes_test_data.csv', index=False)"
   ]
  }
 ],
 "metadata": {
  "kernelspec": {
   "display_name": "Python 3 (ipykernel)",
   "language": "python",
   "name": "python3"
  },
  "language_info": {
   "codemirror_mode": {
    "name": "ipython",
    "version": 3
   },
   "file_extension": ".py",
   "mimetype": "text/x-python",
   "name": "python",
   "nbconvert_exporter": "python",
   "pygments_lexer": "ipython3",
   "version": "3.10.2"
  }
 },
 "nbformat": 4,
 "nbformat_minor": 5
}
