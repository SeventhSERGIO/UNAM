{
 "cells": [
  {
   "cell_type": "markdown",
   "id": "6b9df52c-6e75-4233-97cc-1e21d6c16826",
   "metadata": {
    "tags": []
   },
   "source": [
    "# Bibliotecas necesarias"
   ]
  },
  {
   "cell_type": "code",
   "execution_count": 1,
   "id": "9200288d-fcb5-4805-b6b7-92cc35411559",
   "metadata": {
    "execution": {
     "iopub.execute_input": "2022-06-04T02:29:05.682310Z",
     "iopub.status.busy": "2022-06-04T02:29:05.682230Z",
     "iopub.status.idle": "2022-06-04T02:29:07.134091Z",
     "shell.execute_reply": "2022-06-04T02:29:07.133848Z",
     "shell.execute_reply.started": "2022-06-04T02:29:05.682302Z"
    },
    "tags": []
   },
   "outputs": [],
   "source": [
    "from sklearn.preprocessing import OneHotEncoder, OrdinalEncoder, MinMaxScaler\n",
    "from sklearn.compose import make_column_selector as Selector\n",
    "from sklearn.compose import ColumnTransformer\n",
    "from sklearn.metrics import confusion_matrix\n",
    "from sklearn.metrics import classification_report\n",
    "from matplotlib import pyplot as plt\n",
    "import seaborn as sns\n",
    "from torch import nn\n",
    "import pandas as pd\n",
    "import numpy as np\n",
    "import torch\n",
    "import AC"
   ]
  },
  {
   "cell_type": "markdown",
   "id": "2eccd7a3-1668-4446-8f7f-a34484630b9d",
   "metadata": {},
   "source": [
    "# Clases y funciónes necesarias"
   ]
  },
  {
   "cell_type": "code",
   "execution_count": 2,
   "id": "166c6354-f907-4654-aab4-be7d4ead384e",
   "metadata": {
    "execution": {
     "iopub.execute_input": "2022-06-04T02:29:07.134623Z",
     "iopub.status.busy": "2022-06-04T02:29:07.134554Z",
     "iopub.status.idle": "2022-06-04T02:29:07.137845Z",
     "shell.execute_reply": "2022-06-04T02:29:07.137648Z",
     "shell.execute_reply.started": "2022-06-04T02:29:07.134614Z"
    },
    "tags": []
   },
   "outputs": [],
   "source": [
    "class Classifier(nn.Module):\n",
    "    \n",
    "    def __init__(self, input_layer=40, hiden_layer=20, lr=0.01):\n",
    "        # Initialise parent pythorch class\n",
    "        super().__init__()\n",
    "        # Define neural networks layers\n",
    "        self.model = nn.Sequential(\n",
    "            nn.Linear(input_layer, hiden_layer),\n",
    "            nn.ReLU(), \n",
    "            nn.Linear(hiden_layer,1),\n",
    "            nn.Sigmoid()\n",
    "        )\n",
    "        # Create loss function\n",
    "        self.loss_function = nn.MSELoss()\n",
    "        # Create optimise, simple stochastic gradient descent\n",
    "        self.optimiser = torch.optim.SGD(self.parameters(),lr=lr)\n",
    "        # counter and accumulator for progress\n",
    "        self.counter = 0\n",
    "        self.progress = []\n",
    "    \n",
    "    def forward(self, inputs):\n",
    "        return self.model(inputs)\n",
    "    \n",
    "    def train(self, inputs, targets):\n",
    "        # Calculate the opututs of the networks\n",
    "        outputs = self.forward(inputs)\n",
    "        #Calculate loss\n",
    "        loss = self.loss_function(outputs,targets)\n",
    "        # Zero gradients, perform a backward pass, and update the weights\n",
    "        self.optimiser.zero_grad()\n",
    "        loss.backward()\n",
    "        self.optimiser.step()\n",
    "        # increase counter and accumulate error every 10\n",
    "        self.counter += 1\n",
    "        if (self.counter % 100 == 0):\n",
    "            self.progress.append(loss.item())\n",
    "        \n",
    "        if (self.counter % 10000 == 0):\n",
    "            print(\"counter = \", self.counter)"
   ]
  },
  {
   "cell_type": "code",
   "execution_count": 3,
   "id": "2449a609-f380-4713-94d0-433463cc7f42",
   "metadata": {
    "execution": {
     "iopub.execute_input": "2022-06-04T02:29:07.138321Z",
     "iopub.status.busy": "2022-06-04T02:29:07.138233Z",
     "iopub.status.idle": "2022-06-04T02:29:07.140228Z",
     "shell.execute_reply": "2022-06-04T02:29:07.140018Z",
     "shell.execute_reply.started": "2022-06-04T02:29:07.138314Z"
    },
    "tags": []
   },
   "outputs": [],
   "source": [
    "def get_data(data,target,drop):\n",
    "    drop.append(target)\n",
    "    # Select features and targets\n",
    "    y = data[target]\n",
    "    X = data.drop(columns=drop)\n",
    "    # Encode the features\n",
    "    X = column_transformer.transform(X)\n",
    "    X = torch.from_numpy(X.toarray().astype(np.float32))\n",
    "    y = torch.from_numpy(y.to_numpy().reshape(-1,1).astype(np.float32))\n",
    "    \n",
    "    return X, y"
   ]
  },
  {
   "cell_type": "code",
   "execution_count": 4,
   "id": "f7fc52f6-663c-44b0-a780-5dfd3f08a8ef",
   "metadata": {
    "execution": {
     "iopub.execute_input": "2022-06-04T02:29:07.140626Z",
     "iopub.status.busy": "2022-06-04T02:29:07.140568Z",
     "iopub.status.idle": "2022-06-04T02:29:07.142632Z",
     "shell.execute_reply": "2022-06-04T02:29:07.142432Z",
     "shell.execute_reply.started": "2022-06-04T02:29:07.140619Z"
    },
    "tags": []
   },
   "outputs": [],
   "source": [
    "def metrics_classification(y_true, y_pred):\n",
    "    cm = confusion_matrix(y_true,y_pred, labels=[0,1])\n",
    "    fig, ax = AC.createFigures(figsize=(8,5))\n",
    "    sns.heatmap(cm, annot=True, ax=ax, fmt=\".0f\", annot_kws=dict(size=16, weight='bold'), cbar=False);\n",
    "    ax.set_xlabel('Predicted Label');\n",
    "    ax.set_ylabel('True Label');\n",
    "    report = classification_report(y_true, y_pred, target_names=['Negativo','Positivo'], digits=5)\n",
    "    print(report)"
   ]
  },
  {
   "cell_type": "markdown",
   "id": "5d6feda0-4322-4b9e-bdae-cd56f0344ca3",
   "metadata": {
    "tags": []
   },
   "source": [
    "# Se prepara el codificador de columnas"
   ]
  },
  {
   "cell_type": "markdown",
   "id": "a8a42e4d-2f0d-410c-a219-9a5230db9662",
   "metadata": {},
   "source": [
    "**Se crea el codificador de columnas**"
   ]
  },
  {
   "cell_type": "code",
   "execution_count": 5,
   "id": "ede6f8c0-9ff4-4dd9-b727-ebbca2d61982",
   "metadata": {
    "execution": {
     "iopub.execute_input": "2022-06-04T02:29:07.143002Z",
     "iopub.status.busy": "2022-06-04T02:29:07.142952Z",
     "iopub.status.idle": "2022-06-04T02:29:07.144713Z",
     "shell.execute_reply": "2022-06-04T02:29:07.144456Z",
     "shell.execute_reply.started": "2022-06-04T02:29:07.142995Z"
    },
    "tags": []
   },
   "outputs": [],
   "source": [
    "# Transformer to encode categorical variables, and normalize numerical variables\n",
    "column_transformer = ColumnTransformer([('categories',OneHotEncoder(handle_unknown='ignore'), \n",
    "                                         Selector(dtype_include=object))],\n",
    "                                       remainder=MinMaxScaler())"
   ]
  },
  {
   "cell_type": "markdown",
   "id": "fc9123fc-407c-4636-bad2-d924a4c004c0",
   "metadata": {},
   "source": [
    "**Se lee el conjunto de datos completo**"
   ]
  },
  {
   "cell_type": "code",
   "execution_count": 6,
   "id": "47f51b77-364f-4f30-84b2-bbfdae59066e",
   "metadata": {
    "execution": {
     "iopub.execute_input": "2022-06-04T02:29:07.145121Z",
     "iopub.status.busy": "2022-06-04T02:29:07.145055Z",
     "iopub.status.idle": "2022-06-04T02:30:08.922695Z",
     "shell.execute_reply": "2022-06-04T02:30:08.917597Z",
     "shell.execute_reply.started": "2022-06-04T02:29:07.145113Z"
    },
    "tags": []
   },
   "outputs": [],
   "source": [
    "# Read the complete data set\n",
    "dataset = pd.read_csv('all_atributes/covid_data_all_atributes.csv')\n",
    "dataset = dataset.drop(columns=['CONFIRMADO','DEFUNCION'])"
   ]
  },
  {
   "cell_type": "code",
   "execution_count": 7,
   "id": "9546b444-e26a-49b1-a4b7-130575b41332",
   "metadata": {
    "execution": {
     "iopub.execute_input": "2022-06-04T02:30:08.932774Z",
     "iopub.status.busy": "2022-06-04T02:30:08.932627Z",
     "iopub.status.idle": "2022-06-04T02:30:08.970457Z",
     "shell.execute_reply": "2022-06-04T02:30:08.970196Z",
     "shell.execute_reply.started": "2022-06-04T02:30:08.932762Z"
    },
    "tags": []
   },
   "outputs": [
    {
     "data": {
      "text/html": [
       "<div>\n",
       "<style scoped>\n",
       "    .dataframe tbody tr th:only-of-type {\n",
       "        vertical-align: middle;\n",
       "    }\n",
       "\n",
       "    .dataframe tbody tr th {\n",
       "        vertical-align: top;\n",
       "    }\n",
       "\n",
       "    .dataframe thead th {\n",
       "        text-align: right;\n",
       "    }\n",
       "</style>\n",
       "<table border=\"1\" class=\"dataframe\">\n",
       "  <thead>\n",
       "    <tr style=\"text-align: right;\">\n",
       "      <th></th>\n",
       "      <th>ORIGEN</th>\n",
       "      <th>SECTOR</th>\n",
       "      <th>ENTIDAD_UM</th>\n",
       "      <th>SEXO</th>\n",
       "      <th>ENTIDAD_NAC</th>\n",
       "      <th>ENTIDAD_RES</th>\n",
       "      <th>MUNICIPIO_RES</th>\n",
       "      <th>TIPO_PACIENTE</th>\n",
       "      <th>FECHA_INGRESO</th>\n",
       "      <th>FECHA_SINTOMAS</th>\n",
       "      <th>...</th>\n",
       "      <th>TABAQUISMO</th>\n",
       "      <th>OTRO_CASO</th>\n",
       "      <th>TOMA_MUESTRA_LAB</th>\n",
       "      <th>RESULTADO_LAB</th>\n",
       "      <th>TOMA_MUESTRA_ANTIGENO</th>\n",
       "      <th>RESULTADO_ANTIGENO</th>\n",
       "      <th>MIGRANTE</th>\n",
       "      <th>PAIS_NACIONALIDAD</th>\n",
       "      <th>PAIS_ORIGEN</th>\n",
       "      <th>UCI</th>\n",
       "    </tr>\n",
       "  </thead>\n",
       "  <tbody>\n",
       "    <tr>\n",
       "      <th>0</th>\n",
       "      <td>FUERA DE USMER</td>\n",
       "      <td>SSA</td>\n",
       "      <td>CIUDAD DE MÉXICO</td>\n",
       "      <td>HOMBRE</td>\n",
       "      <td>CIUDAD DE MÉXICO</td>\n",
       "      <td>CIUDAD DE MÉXICO</td>\n",
       "      <td>ATOLINGA</td>\n",
       "      <td>AMBULATORIO</td>\n",
       "      <td>230</td>\n",
       "      <td>228</td>\n",
       "      <td>...</td>\n",
       "      <td>NO</td>\n",
       "      <td>SI</td>\n",
       "      <td>SI</td>\n",
       "      <td>NO POSITIVO A SARS-COV-2</td>\n",
       "      <td>NO</td>\n",
       "      <td>NO APLICA (CASO SIN MUESTRA)</td>\n",
       "      <td>NO ESPECIFICADO</td>\n",
       "      <td>México</td>\n",
       "      <td>NO APLICA</td>\n",
       "      <td>NO APLICA</td>\n",
       "    </tr>\n",
       "    <tr>\n",
       "      <th>1</th>\n",
       "      <td>USMER</td>\n",
       "      <td>SSA</td>\n",
       "      <td>GUERRERO</td>\n",
       "      <td>HOMBRE</td>\n",
       "      <td>GUERRERO</td>\n",
       "      <td>GUERRERO</td>\n",
       "      <td>PROGRESO</td>\n",
       "      <td>HOSPITALIZADO</td>\n",
       "      <td>153</td>\n",
       "      <td>147</td>\n",
       "      <td>...</td>\n",
       "      <td>NO</td>\n",
       "      <td>NO</td>\n",
       "      <td>NO</td>\n",
       "      <td>NO APLICA (CASO SIN MUESTRA)</td>\n",
       "      <td>NO</td>\n",
       "      <td>NO APLICA (CASO SIN MUESTRA)</td>\n",
       "      <td>NO ESPECIFICADO</td>\n",
       "      <td>México</td>\n",
       "      <td>NO APLICA</td>\n",
       "      <td>NO</td>\n",
       "    </tr>\n",
       "    <tr>\n",
       "      <th>2</th>\n",
       "      <td>USMER</td>\n",
       "      <td>SSA</td>\n",
       "      <td>TLAXCALA</td>\n",
       "      <td>MUJER</td>\n",
       "      <td>TLAXCALA</td>\n",
       "      <td>TLAXCALA</td>\n",
       "      <td>CALERA</td>\n",
       "      <td>AMBULATORIO</td>\n",
       "      <td>184</td>\n",
       "      <td>182</td>\n",
       "      <td>...</td>\n",
       "      <td>NO</td>\n",
       "      <td>NO</td>\n",
       "      <td>SI</td>\n",
       "      <td>NO POSITIVO A SARS-COV-2</td>\n",
       "      <td>NO</td>\n",
       "      <td>NO APLICA (CASO SIN MUESTRA)</td>\n",
       "      <td>NO ESPECIFICADO</td>\n",
       "      <td>México</td>\n",
       "      <td>NO APLICA</td>\n",
       "      <td>NO APLICA</td>\n",
       "    </tr>\n",
       "    <tr>\n",
       "      <th>3</th>\n",
       "      <td>USMER</td>\n",
       "      <td>SSA</td>\n",
       "      <td>QUERÉTARO</td>\n",
       "      <td>HOMBRE</td>\n",
       "      <td>CIUDAD DE MÉXICO</td>\n",
       "      <td>QUERÉTARO</td>\n",
       "      <td>GENERAL FRANCISCO R. MURGUÍA</td>\n",
       "      <td>AMBULATORIO</td>\n",
       "      <td>342</td>\n",
       "      <td>337</td>\n",
       "      <td>...</td>\n",
       "      <td>NO</td>\n",
       "      <td>NO</td>\n",
       "      <td>SI</td>\n",
       "      <td>POSITIVO A SARS-COV-2</td>\n",
       "      <td>NO</td>\n",
       "      <td>NO APLICA (CASO SIN MUESTRA)</td>\n",
       "      <td>NO ESPECIFICADO</td>\n",
       "      <td>México</td>\n",
       "      <td>NO APLICA</td>\n",
       "      <td>NO APLICA</td>\n",
       "    </tr>\n",
       "    <tr>\n",
       "      <th>4</th>\n",
       "      <td>USMER</td>\n",
       "      <td>SSA</td>\n",
       "      <td>BAJA CALIFORNIA</td>\n",
       "      <td>MUJER</td>\n",
       "      <td>BAJA CALIFORNIA</td>\n",
       "      <td>BAJA CALIFORNIA</td>\n",
       "      <td>BENITO JUÁREZ</td>\n",
       "      <td>HOSPITALIZADO</td>\n",
       "      <td>169</td>\n",
       "      <td>163</td>\n",
       "      <td>...</td>\n",
       "      <td>SE IGNORA</td>\n",
       "      <td>NO ESPECIFICADO</td>\n",
       "      <td>NO</td>\n",
       "      <td>NO APLICA (CASO SIN MUESTRA)</td>\n",
       "      <td>NO</td>\n",
       "      <td>NO APLICA (CASO SIN MUESTRA)</td>\n",
       "      <td>NO ESPECIFICADO</td>\n",
       "      <td>México</td>\n",
       "      <td>NO APLICA</td>\n",
       "      <td>NO</td>\n",
       "    </tr>\n",
       "  </tbody>\n",
       "</table>\n",
       "<p>5 rows × 36 columns</p>\n",
       "</div>"
      ],
      "text/plain": [
       "           ORIGEN SECTOR        ENTIDAD_UM    SEXO       ENTIDAD_NAC  \\\n",
       "0  FUERA DE USMER    SSA  CIUDAD DE MÉXICO  HOMBRE  CIUDAD DE MÉXICO   \n",
       "1           USMER    SSA          GUERRERO  HOMBRE          GUERRERO   \n",
       "2           USMER    SSA          TLAXCALA   MUJER          TLAXCALA   \n",
       "3           USMER    SSA         QUERÉTARO  HOMBRE  CIUDAD DE MÉXICO   \n",
       "4           USMER    SSA   BAJA CALIFORNIA   MUJER   BAJA CALIFORNIA   \n",
       "\n",
       "        ENTIDAD_RES                 MUNICIPIO_RES  TIPO_PACIENTE  \\\n",
       "0  CIUDAD DE MÉXICO                      ATOLINGA    AMBULATORIO   \n",
       "1          GUERRERO                      PROGRESO  HOSPITALIZADO   \n",
       "2          TLAXCALA                        CALERA    AMBULATORIO   \n",
       "3         QUERÉTARO  GENERAL FRANCISCO R. MURGUÍA    AMBULATORIO   \n",
       "4   BAJA CALIFORNIA                 BENITO JUÁREZ  HOSPITALIZADO   \n",
       "\n",
       "   FECHA_INGRESO  FECHA_SINTOMAS  ... TABAQUISMO        OTRO_CASO  \\\n",
       "0            230             228  ...        NO               SI    \n",
       "1            153             147  ...        NO               NO    \n",
       "2            184             182  ...        NO               NO    \n",
       "3            342             337  ...        NO               NO    \n",
       "4            169             163  ...  SE IGNORA  NO ESPECIFICADO   \n",
       "\n",
       "   TOMA_MUESTRA_LAB                 RESULTADO_LAB TOMA_MUESTRA_ANTIGENO  \\\n",
       "0               SI       NO POSITIVO A SARS-COV-2                   NO    \n",
       "1               NO   NO APLICA (CASO SIN MUESTRA)                   NO    \n",
       "2               SI       NO POSITIVO A SARS-COV-2                   NO    \n",
       "3               SI          POSITIVO A SARS-COV-2                   NO    \n",
       "4               NO   NO APLICA (CASO SIN MUESTRA)                   NO    \n",
       "\n",
       "             RESULTADO_ANTIGENO         MIGRANTE PAIS_NACIONALIDAD  \\\n",
       "0  NO APLICA (CASO SIN MUESTRA)  NO ESPECIFICADO            México   \n",
       "1  NO APLICA (CASO SIN MUESTRA)  NO ESPECIFICADO            México   \n",
       "2  NO APLICA (CASO SIN MUESTRA)  NO ESPECIFICADO            México   \n",
       "3  NO APLICA (CASO SIN MUESTRA)  NO ESPECIFICADO            México   \n",
       "4  NO APLICA (CASO SIN MUESTRA)  NO ESPECIFICADO            México   \n",
       "\n",
       "  PAIS_ORIGEN        UCI  \n",
       "0   NO APLICA  NO APLICA  \n",
       "1   NO APLICA        NO   \n",
       "2   NO APLICA  NO APLICA  \n",
       "3   NO APLICA  NO APLICA  \n",
       "4   NO APLICA        NO   \n",
       "\n",
       "[5 rows x 36 columns]"
      ]
     },
     "execution_count": 7,
     "metadata": {},
     "output_type": "execute_result"
    }
   ],
   "source": [
    "dataset.head()"
   ]
  },
  {
   "cell_type": "markdown",
   "id": "d87b3a74-f69e-4fa6-9290-83a87d4394b1",
   "metadata": {},
   "source": [
    "**Se ajusta el transformador**"
   ]
  },
  {
   "cell_type": "code",
   "execution_count": 8,
   "id": "60575f15-14a2-4bd0-802d-f20f8c98d551",
   "metadata": {
    "execution": {
     "iopub.execute_input": "2022-06-04T02:30:08.971423Z",
     "iopub.status.busy": "2022-06-04T02:30:08.971337Z",
     "iopub.status.idle": "2022-06-04T02:32:59.178753Z",
     "shell.execute_reply": "2022-06-04T02:32:59.176763Z",
     "shell.execute_reply.started": "2022-06-04T02:30:08.971412Z"
    },
    "tags": []
   },
   "outputs": [
    {
     "data": {
      "text/plain": [
       "ColumnTransformer(remainder=MinMaxScaler(),\n",
       "                  transformers=[('categories',\n",
       "                                 OneHotEncoder(handle_unknown='ignore'),\n",
       "                                 <sklearn.compose._column_transformer.make_column_selector object at 0x176116260>)])"
      ]
     },
     "execution_count": 8,
     "metadata": {},
     "output_type": "execute_result"
    }
   ],
   "source": [
    "column_transformer.fit(dataset)"
   ]
  },
  {
   "cell_type": "markdown",
   "id": "4c6d7c45-860f-406f-b438-0081b4d2eeac",
   "metadata": {},
   "source": [
    "**Se obtiene el tamaño de la capa de entrada**"
   ]
  },
  {
   "cell_type": "code",
   "execution_count": 9,
   "id": "d3f08c8d-dc09-4554-b3dd-416407fd67bb",
   "metadata": {
    "execution": {
     "iopub.execute_input": "2022-06-04T02:32:59.190936Z",
     "iopub.status.busy": "2022-06-04T02:32:59.190364Z",
     "iopub.status.idle": "2022-06-04T02:32:59.292109Z",
     "shell.execute_reply": "2022-06-04T02:32:59.291848Z",
     "shell.execute_reply.started": "2022-06-04T02:32:59.190925Z"
    },
    "tags": []
   },
   "outputs": [],
   "source": [
    "# Size of the input layer\n",
    "input_layer = column_transformer.transform(dataset.head(1)).shape[1]"
   ]
  },
  {
   "cell_type": "markdown",
   "id": "bc2b11f6-493f-4438-bfd2-50e6e5454841",
   "metadata": {},
   "source": [
    "**Se quita el conjunto de la memoria**"
   ]
  },
  {
   "cell_type": "code",
   "execution_count": 10,
   "id": "65040b35-2a10-4ab8-81c1-ea28bc4a6bff",
   "metadata": {
    "execution": {
     "iopub.execute_input": "2022-06-04T02:32:59.299066Z",
     "iopub.status.busy": "2022-06-04T02:32:59.298965Z",
     "iopub.status.idle": "2022-06-04T02:32:59.304208Z",
     "shell.execute_reply": "2022-06-04T02:32:59.303958Z",
     "shell.execute_reply.started": "2022-06-04T02:32:59.299057Z"
    },
    "tags": []
   },
   "outputs": [],
   "source": [
    "del dataset"
   ]
  },
  {
   "cell_type": "markdown",
   "id": "102e61c7-e053-4c00-bc9e-d70667949c84",
   "metadata": {},
   "source": [
    "# Seleccion y entrenamiento del modelo"
   ]
  },
  {
   "cell_type": "markdown",
   "id": "ad7f16bc-a837-4540-bcea-6f8d3419e6c9",
   "metadata": {},
   "source": [
    "**Se define la estructura de la red**"
   ]
  },
  {
   "cell_type": "code",
   "execution_count": 11,
   "id": "ff7838b1-bdb4-42b2-8079-1a5eceab1ac7",
   "metadata": {
    "execution": {
     "iopub.execute_input": "2022-06-04T02:32:59.305157Z",
     "iopub.status.busy": "2022-06-04T02:32:59.305088Z",
     "iopub.status.idle": "2022-06-04T02:32:59.366827Z",
     "shell.execute_reply": "2022-06-04T02:32:59.366567Z",
     "shell.execute_reply.started": "2022-06-04T02:32:59.305149Z"
    },
    "tags": []
   },
   "outputs": [],
   "source": [
    "# Define the network to use\n",
    "model = Classifier(input_layer,hiden_layer=20)"
   ]
  },
  {
   "cell_type": "markdown",
   "id": "28a36709-5499-4089-9533-4d965d96b3b2",
   "metadata": {},
   "source": [
    "**Entrenamiento de la red**"
   ]
  },
  {
   "cell_type": "code",
   "execution_count": 12,
   "id": "e1c7f6f0-6767-4093-96c5-c5274983ed2f",
   "metadata": {
    "execution": {
     "iopub.execute_input": "2022-06-04T02:32:59.367562Z",
     "iopub.status.busy": "2022-06-04T02:32:59.367415Z",
     "iopub.status.idle": "2022-06-04T02:47:10.750484Z",
     "shell.execute_reply": "2022-06-04T02:47:10.749187Z",
     "shell.execute_reply.started": "2022-06-04T02:32:59.367551Z"
    },
    "tags": []
   },
   "outputs": [
    {
     "name": "stdout",
     "output_type": "stream",
     "text": [
      "training epoch 1 of 5\n",
      "counter =  10000\n",
      "training epoch 2 of 5\n",
      "counter =  20000\n",
      "training epoch 3 of 5\n",
      "counter =  30000\n",
      "training epoch 4 of 5\n",
      "counter =  40000\n",
      "training epoch 5 of 5\n",
      "counter =  50000\n"
     ]
    }
   ],
   "source": [
    "train_file = 'all_atributes/all_atributes_train_data.csv'\n",
    "chunksize = 1000\n",
    "epochs = 5\n",
    "# Train the model for every epoch\n",
    "for i in range(epochs):\n",
    "    print ('training epoch', i+1, \"of\", epochs)\n",
    "    train_data = pd.read_csv(train_file, chunksize=chunksize)\n",
    "    for data in train_data:\n",
    "        X, y = get_data(data,target='DEFUNCION',drop=['CONFIRMADO'])\n",
    "        # Train the model\n",
    "        model.train(X, y)"
   ]
  },
  {
   "cell_type": "code",
   "execution_count": 13,
   "id": "4b208648-6f8a-400b-b72c-c5b7b5a50c35",
   "metadata": {
    "execution": {
     "iopub.execute_input": "2022-06-04T02:47:10.751559Z",
     "iopub.status.busy": "2022-06-04T02:47:10.751290Z",
     "iopub.status.idle": "2022-06-04T02:47:10.855901Z",
     "shell.execute_reply": "2022-06-04T02:47:10.855584Z",
     "shell.execute_reply.started": "2022-06-04T02:47:10.751547Z"
    },
    "tags": []
   },
   "outputs": [
    {
     "data": {
      "image/png": "[encoded data removed]",
      "text/plain": [
       "<Figure size 1152x360 with 1 Axes>"
      ]
     },
     "metadata": {
      "needs_background": "light"
     },
     "output_type": "display_data"
    }
   ],
   "source": [
    "fig, ax = AC.createFigures(figsize=(16,5))\n",
    "ax.plot(model.progress);"
   ]
  },
  {
   "cell_type": "markdown",
   "id": "fae75c72-7fba-40fd-926a-44ad01d3ba4a",
   "metadata": {},
   "source": [
    "# Métricas de desempeño conjunto de entrenamiento"
   ]
  },
  {
   "cell_type": "code",
   "execution_count": 14,
   "id": "268a5fbf-732e-4453-bffa-ab109ad0bf11",
   "metadata": {
    "execution": {
     "iopub.execute_input": "2022-06-04T02:47:10.856410Z",
     "iopub.status.busy": "2022-06-04T02:47:10.856346Z",
     "iopub.status.idle": "2022-06-04T02:50:07.936000Z",
     "shell.execute_reply": "2022-06-04T02:50:07.935708Z",
     "shell.execute_reply.started": "2022-06-04T02:47:10.856403Z"
    },
    "tags": []
   },
   "outputs": [
    {
     "name": "stdout",
     "output_type": "stream",
     "text": [
      "              precision    recall  f1-score   support\n",
      "\n",
      "    Negativo    0.98322   0.99370   0.98843  10332837\n",
      "    Positivo    0.64556   0.40337   0.49651    293719\n",
      "\n",
      "    accuracy                        0.97739  10626556\n",
      "   macro avg    0.81439   0.69854   0.74247  10626556\n",
      "weighted avg    0.97389   0.97739   0.97484  10626556\n",
      "\n"
     ]
    },
    {
     "data": {
      "image/png": "[encoded data removed]",
      "text/plain": [
       "<Figure size 576x360 with 1 Axes>"
      ]
     },
     "metadata": {
      "needs_background": "light"
     },
     "output_type": "display_data"
    }
   ],
   "source": [
    "y_true = []\n",
    "y_pred = []\n",
    "\n",
    "for data in pd.read_csv(train_file, chunksize=1000):\n",
    "    X, y = get_data(data,target='DEFUNCION',drop=['CONFIRMADO'])\n",
    "    y_true.append(y)\n",
    "    pred = model.forward(X)\n",
    "    pred = np.where(pred>=0.5,1,0)\n",
    "    y_pred.append(pred)\n",
    "    \n",
    "y_true = np.concatenate(y_true)\n",
    "y_pred = np.concatenate(y_pred)\n",
    "\n",
    "metrics_classification(y_true,y_pred)\n",
    "del y_true, y_pred"
   ]
  },
  {
   "cell_type": "markdown",
   "id": "302cc475-02d4-4023-87fb-40bfd7e390cd",
   "metadata": {},
   "source": [
    "# Métricas de desempeño conjunto de pruebas"
   ]
  },
  {
   "cell_type": "code",
   "execution_count": 15,
   "id": "662811c8-dee0-4d47-8758-6151d7453762",
   "metadata": {
    "execution": {
     "iopub.execute_input": "2022-06-04T02:50:07.937533Z",
     "iopub.status.busy": "2022-06-04T02:50:07.937431Z",
     "iopub.status.idle": "2022-06-04T02:50:07.939376Z",
     "shell.execute_reply": "2022-06-04T02:50:07.939099Z",
     "shell.execute_reply.started": "2022-06-04T02:50:07.937522Z"
    }
   },
   "outputs": [],
   "source": [
    "test_file = 'all_atributes/all_atributes_test_data.csv'"
   ]
  },
  {
   "cell_type": "code",
   "execution_count": 16,
   "id": "94aca952-a531-4f6e-be71-737036473e4d",
   "metadata": {
    "execution": {
     "iopub.execute_input": "2022-06-04T02:50:07.939873Z",
     "iopub.status.busy": "2022-06-04T02:50:07.939815Z",
     "iopub.status.idle": "2022-06-04T02:51:22.275199Z",
     "shell.execute_reply": "2022-06-04T02:51:22.274938Z",
     "shell.execute_reply.started": "2022-06-04T02:50:07.939866Z"
    }
   },
   "outputs": [
    {
     "name": "stdout",
     "output_type": "stream",
     "text": [
      "              precision    recall  f1-score   support\n",
      "\n",
      "    Negativo    0.98326   0.99366   0.98843   4429144\n",
      "    Positivo    0.64114   0.40109   0.49347    125095\n",
      "\n",
      "    accuracy                        0.97738   4554239\n",
      "   macro avg    0.81220   0.69737   0.74095   4554239\n",
      "weighted avg    0.97386   0.97738   0.97484   4554239\n",
      "\n"
     ]
    },
    {
     "data": {
      "image/png": "[encoded data removed]",
      "text/plain": [
       "<Figure size 576x360 with 1 Axes>"
      ]
     },
     "metadata": {
      "needs_background": "light"
     },
     "output_type": "display_data"
    }
   ],
   "source": [
    "y_true = []\n",
    "y_pred = []\n",
    "\n",
    "for data in pd.read_csv(test_file, chunksize=1000):\n",
    "    X, y = get_data(data,target='DEFUNCION',drop=['CONFIRMADO'])\n",
    "    y_true.append(y)\n",
    "    pred = model.forward(X)\n",
    "    pred = np.where(pred>=0.5,1,0)\n",
    "    y_pred.append(pred)\n",
    "    \n",
    "y_true = np.concatenate(y_true)\n",
    "y_pred = np.concatenate(y_pred)\n",
    "\n",
    "metrics_classification(y_true,y_pred)\n",
    "del y_true, y_pred"
   ]
  },
  {
   "cell_type": "code",
   "execution_count": null,
   "id": "a17e0570-fa28-406d-a7a7-48ece8c6fe56",
   "metadata": {},
   "outputs": [],
   "source": []
  }
 ],
 "metadata": {
  "kernelspec": {
   "display_name": "Python 3 (ipykernel)",
   "language": "python",
   "name": "python3"
  },
  "language_info": {
   "codemirror_mode": {
    "name": "ipython",
    "version": 3
   },
   "file_extension": ".py",
   "mimetype": "text/x-python",
   "name": "python",
   "nbconvert_exporter": "python",
   "pygments_lexer": "ipython3",
   "version": "3.10.2"
  }
 },
 "nbformat": 4,
 "nbformat_minor": 5
}
