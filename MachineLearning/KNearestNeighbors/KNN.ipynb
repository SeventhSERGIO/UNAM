{
 "cells": [
  {
   "cell_type": "code",
   "execution_count": 28,
   "id": "3eab80ec-57f1-47d3-8549-044793091f84",
   "metadata": {
    "execution": {
     "iopub.execute_input": "2022-04-27T04:27:52.323738Z",
     "iopub.status.busy": "2022-04-27T04:27:52.322549Z",
     "iopub.status.idle": "2022-04-27T04:27:52.334107Z",
     "shell.execute_reply": "2022-04-27T04:27:52.332925Z",
     "shell.execute_reply.started": "2022-04-27T04:27:52.323664Z"
    },
    "tags": []
   },
   "outputs": [],
   "source": [
    "from matplotlib import pyplot as plt\n",
    "from sklearn.neighbors import KNeighborsClassifier, KNeighborsRegressor\n",
    "import numpy as np\n",
    "import pandas as pd\n",
    "import AC"
   ]
  },
  {
   "cell_type": "code",
   "execution_count": 2,
   "id": "520aec48-b156-4503-b09a-8234d9b90603",
   "metadata": {
    "execution": {
     "iopub.execute_input": "2022-04-27T03:59:36.002978Z",
     "iopub.status.busy": "2022-04-27T03:59:36.002484Z",
     "iopub.status.idle": "2022-04-27T03:59:36.010948Z",
     "shell.execute_reply": "2022-04-27T03:59:36.009872Z",
     "shell.execute_reply.started": "2022-04-27T03:59:36.002934Z"
    },
    "tags": []
   },
   "outputs": [],
   "source": [
    "def getRandomPoint(data:'Conjunto de Datos', k:'Numero de puntos a generar', fromPoints=False):\n",
    "    if fromPoints:\n",
    "        n = data.shape[0]\n",
    "        index = np.arange(n)\n",
    "        choice = np.random.choice(index, size=k,replace=False)\n",
    "        return data[choice]\n",
    "    else:\n",
    "        rangeValues = np.c_[data.min(axis=0),data.max(axis=0)]\n",
    "        randomPoints = [[np.random.uniform(*r) for r in rangeValues] for _ in range(k)]\n",
    "        return np.array(randomPoints)"
   ]
  },
  {
   "cell_type": "code",
   "execution_count": 3,
   "id": "54b93ad3-eb8a-4481-aec6-82840079c18a",
   "metadata": {
    "execution": {
     "iopub.execute_input": "2022-04-27T03:33:49.641728Z",
     "iopub.status.busy": "2022-04-27T03:33:49.641649Z",
     "iopub.status.idle": "2022-04-27T03:33:49.643808Z",
     "shell.execute_reply": "2022-04-27T03:33:49.643543Z",
     "shell.execute_reply.started": "2022-04-27T03:33:49.641718Z"
    },
    "tags": []
   },
   "outputs": [],
   "source": [
    "def createCluster(center:'Size of d', std, size, *, d=1):\n",
    "    randomPart = np.random.normal(0, std, size=(size,d))\n",
    "    return randomPart + center"
   ]
  },
  {
   "cell_type": "code",
   "execution_count": 136,
   "id": "0da22ca3-f335-47c4-a838-1dffd6fa1b43",
   "metadata": {
    "execution": {
     "iopub.execute_input": "2022-04-27T05:54:31.776714Z",
     "iopub.status.busy": "2022-04-27T05:54:31.776211Z",
     "iopub.status.idle": "2022-04-27T05:54:31.786634Z",
     "shell.execute_reply": "2022-04-27T05:54:31.783798Z",
     "shell.execute_reply.started": "2022-04-27T05:54:31.776671Z"
    },
    "tags": []
   },
   "outputs": [],
   "source": [
    "distance = lambda v, u: np.linalg.norm(v-u, axis=2)"
   ]
  },
  {
   "cell_type": "code",
   "execution_count": 34,
   "id": "c0b443f9-1602-4070-9387-7f4391306592",
   "metadata": {
    "execution": {
     "iopub.execute_input": "2022-04-27T03:35:35.233409Z",
     "iopub.status.busy": "2022-04-27T03:35:35.232928Z",
     "iopub.status.idle": "2022-04-27T03:35:35.242137Z",
     "shell.execute_reply": "2022-04-27T03:35:35.241363Z",
     "shell.execute_reply.started": "2022-04-27T03:35:35.233365Z"
    },
    "tags": []
   },
   "outputs": [],
   "source": [
    "n = 30//3\n",
    "# First cluster\n",
    "x1 = createCluster(center=4, std=1.5, size=n, d=2)\n",
    "t1 = np.full((n,),0)\n",
    "# Second cluster\n",
    "x2 = createCluster(center=-3, std=1, size=n, d=2)\n",
    "t2 = np.full((n,),1)\n",
    "# Third cluster\n",
    "x3 = createCluster(center=0, std=2, size=n, d=2)\n",
    "t3 = np.full((n,),2)\n",
    "# Concatenate clusters\n",
    "X = np.r_[x1,x2,x3]\n",
    "T = np.r_[t1,t2,t3]\n",
    "# Get unique classes\n",
    "uniqueClasses = np.unique(T).astype('uint8')"
   ]
  },
  {
   "cell_type": "code",
   "execution_count": 35,
   "id": "5df83392-2439-4e18-84df-c4c96d411dd8",
   "metadata": {
    "execution": {
     "iopub.execute_input": "2022-04-27T03:35:35.460430Z",
     "iopub.status.busy": "2022-04-27T03:35:35.459624Z",
     "iopub.status.idle": "2022-04-27T03:35:35.464983Z",
     "shell.execute_reply": "2022-04-27T03:35:35.464321Z",
     "shell.execute_reply.started": "2022-04-27T03:35:35.460380Z"
    },
    "tags": []
   },
   "outputs": [],
   "source": [
    "# Create random instance\n",
    "w = getRandomPoint(X,k=1)"
   ]
  },
  {
   "cell_type": "code",
   "execution_count": 50,
   "id": "cf200af0-d52b-44a5-b259-428a266a97a6",
   "metadata": {
    "execution": {
     "iopub.execute_input": "2022-04-27T03:40:08.389941Z",
     "iopub.status.busy": "2022-04-27T03:40:08.389459Z",
     "iopub.status.idle": "2022-04-27T03:40:08.597716Z",
     "shell.execute_reply": "2022-04-27T03:40:08.597356Z",
     "shell.execute_reply.started": "2022-04-27T03:40:08.389897Z"
    },
    "tags": []
   },
   "outputs": [
    {
     "data": {
      "image/png": "[encoded data removed]",
      "text/plain": [
       "<Figure size 720x720 with 1 Axes>"
      ]
     },
     "metadata": {
      "needs_background": "light"
     },
     "output_type": "display_data"
    }
   ],
   "source": [
    "ax = AC.createFigures(figsize=(10,10))\n",
    "scatter = ax.scatter(x=X[:,0],y=X[:,1], c=T, cmap='Dark2', label='Clases', s=100);\n",
    "ax.legend(scatter.legend_elements()[0],uniqueClasses, fontsize=14, title='Classes');\n",
    "ax.scatter(x=w[:,0],y=w[:,1], color='r', marker='*', s=200);"
   ]
  },
  {
   "cell_type": "code",
   "execution_count": 79,
   "id": "af5e096d-e21a-4481-a718-b6023262b152",
   "metadata": {
    "execution": {
     "iopub.execute_input": "2022-04-27T03:55:13.928383Z",
     "iopub.status.busy": "2022-04-27T03:55:13.927383Z",
     "iopub.status.idle": "2022-04-27T03:55:13.945487Z",
     "shell.execute_reply": "2022-04-27T03:55:13.944699Z",
     "shell.execute_reply.started": "2022-04-27T03:55:13.928338Z"
    },
    "tags": []
   },
   "outputs": [
    {
     "data": {
      "text/plain": [
       "array([0])"
      ]
     },
     "execution_count": 79,
     "metadata": {},
     "output_type": "execute_result"
    }
   ],
   "source": [
    "model = KNeighborsClassifier(n_neighbors=10)\n",
    "model.fit(X,T.ravel())\n",
    "model.predict(w)"
   ]
  },
  {
   "cell_type": "code",
   "execution_count": 80,
   "id": "44a0587b-8039-45d6-a058-76fa1cc8fc0b",
   "metadata": {
    "execution": {
     "iopub.execute_input": "2022-04-27T03:55:14.166215Z",
     "iopub.status.busy": "2022-04-27T03:55:14.165884Z",
     "iopub.status.idle": "2022-04-27T03:55:14.170142Z",
     "shell.execute_reply": "2022-04-27T03:55:14.169527Z",
     "shell.execute_reply.started": "2022-04-27T03:55:14.166193Z"
    },
    "tags": []
   },
   "outputs": [],
   "source": [
    "dist, indx = model.kneighbors(w)\n",
    "dist.T;"
   ]
  },
  {
   "cell_type": "code",
   "execution_count": 81,
   "id": "83f1d8f7-3e10-4334-a7ee-0a719168de63",
   "metadata": {
    "execution": {
     "iopub.execute_input": "2022-04-27T03:55:14.449934Z",
     "iopub.status.busy": "2022-04-27T03:55:14.449660Z",
     "iopub.status.idle": "2022-04-27T03:55:14.453220Z",
     "shell.execute_reply": "2022-04-27T03:55:14.452462Z",
     "shell.execute_reply.started": "2022-04-27T03:55:14.449909Z"
    },
    "tags": []
   },
   "outputs": [],
   "source": [
    "X[indx];"
   ]
  },
  {
   "cell_type": "code",
   "execution_count": 82,
   "id": "9b2ce418-6585-4edc-a3f1-1f72f8a5c3c8",
   "metadata": {
    "execution": {
     "iopub.execute_input": "2022-04-27T03:55:14.731178Z",
     "iopub.status.busy": "2022-04-27T03:55:14.730696Z",
     "iopub.status.idle": "2022-04-27T03:55:14.737249Z",
     "shell.execute_reply": "2022-04-27T03:55:14.736550Z",
     "shell.execute_reply.started": "2022-04-27T03:55:14.731134Z"
    },
    "tags": []
   },
   "outputs": [
    {
     "data": {
      "text/plain": [
       "array([[1.09279825, 1.55277201, 1.64420798, 1.72610791, 1.92434583,\n",
       "        2.22925494, 2.4680652 , 2.83448318, 2.90198705, 2.94114947]])"
      ]
     },
     "execution_count": 82,
     "metadata": {},
     "output_type": "execute_result"
    }
   ],
   "source": [
    "distance(X[indx],w)"
   ]
  },
  {
   "cell_type": "code",
   "execution_count": 83,
   "id": "a22ad202-cc0a-4c80-a252-735c815743eb",
   "metadata": {
    "execution": {
     "iopub.execute_input": "2022-04-27T03:55:14.985290Z",
     "iopub.status.busy": "2022-04-27T03:55:14.984818Z",
     "iopub.status.idle": "2022-04-27T03:55:15.132323Z",
     "shell.execute_reply": "2022-04-27T03:55:15.131637Z",
     "shell.execute_reply.started": "2022-04-27T03:55:14.985264Z"
    },
    "tags": []
   },
   "outputs": [
    {
     "data": {
      "image/png": "[encoded data removed]",
      "text/plain": [
       "<Figure size 720x720 with 1 Axes>"
      ]
     },
     "metadata": {
      "needs_background": "light"
     },
     "output_type": "display_data"
    }
   ],
   "source": [
    "ax = AC.createFigures(figsize=(10,10))\n",
    "scatter = ax.scatter(x=X[:,0],y=X[:,1], c=T, cmap='Dark2', label='Clases', s=100);\n",
    "ax.legend(scatter.legend_elements()[0],uniqueClasses, fontsize=14, title='Classes');\n",
    "ax.scatter(x=w[:,0],y=w[:,1], color='r', s=100);\n",
    "ax.text(*w.T,s=f' {int(model.predict(w))}', fontsize=14, fontweight='bold',horizontalalignment='left')\n",
    "ax.scatter(x=X[indx,0],y=X[indx,1], marker='x', color='yellow', s=100);"
   ]
  },
  {
   "cell_type": "code",
   "execution_count": 208,
   "id": "1f88c2ac-bdd0-4d1c-8be3-3f4748c58459",
   "metadata": {
    "execution": {
     "iopub.execute_input": "2022-04-27T15:38:59.705942Z",
     "iopub.status.busy": "2022-04-27T15:38:59.705542Z",
     "iopub.status.idle": "2022-04-27T15:38:59.714543Z",
     "shell.execute_reply": "2022-04-27T15:38:59.712770Z",
     "shell.execute_reply.started": "2022-04-27T15:38:59.705900Z"
    },
    "tags": []
   },
   "outputs": [],
   "source": [
    "n = 100\n",
    "X = np.sort(2*np.pi* np.random.rand(n, 1), axis=0)\n",
    "y = 1- np.exp(-X)"
   ]
  },
  {
   "cell_type": "code",
   "execution_count": 220,
   "id": "c81653ff-8bb2-4002-acfa-02cacad15d10",
   "metadata": {
    "execution": {
     "iopub.execute_input": "2022-04-27T15:40:52.468779Z",
     "iopub.status.busy": "2022-04-27T15:40:52.468504Z",
     "iopub.status.idle": "2022-04-27T15:40:52.472037Z",
     "shell.execute_reply": "2022-04-27T15:40:52.471355Z",
     "shell.execute_reply.started": "2022-04-27T15:40:52.468754Z"
    },
    "tags": []
   },
   "outputs": [],
   "source": [
    "T = 7#3*np.pi/4\n",
    "T = np.array(T).reshape(-1,1)"
   ]
  },
  {
   "cell_type": "code",
   "execution_count": 221,
   "id": "5ea02126-b753-4a90-b2f7-89a6171900ac",
   "metadata": {
    "execution": {
     "iopub.execute_input": "2022-04-27T15:40:52.879889Z",
     "iopub.status.busy": "2022-04-27T15:40:52.879289Z",
     "iopub.status.idle": "2022-04-27T15:40:53.221527Z",
     "shell.execute_reply": "2022-04-27T15:40:53.220935Z",
     "shell.execute_reply.started": "2022-04-27T15:40:52.879865Z"
    },
    "tags": []
   },
   "outputs": [
    {
     "data": {
      "image/png": "[encoded data removed]",
      "text/plain": [
       "<Figure size 1440x720 with 1 Axes>"
      ]
     },
     "metadata": {
      "needs_background": "light"
     },
     "output_type": "display_data"
    }
   ],
   "source": [
    "ax = AC.createFigures(figsize=(20,10))\n",
    "ax.scatter(X,y, color=AC.specialPurple);\n",
    "ax.vlines(T, ymin=-1,ymax=1, color='k', alpha=0.2, linestyle='dashed')\n",
    "ax.set_xticks(np.arange(0,2*np.pi,0.5));\n",
    "ax.scatter(T,0, s=200, color=AC.specialRed, marker='*', label='New instance')\n",
    "ax.legend(fontsize=15);"
   ]
  },
  {
   "cell_type": "code",
   "execution_count": 222,
   "id": "2aa9643f-3aef-4b46-952c-6f562396089e",
   "metadata": {
    "execution": {
     "iopub.execute_input": "2022-04-27T15:40:54.590212Z",
     "iopub.status.busy": "2022-04-27T15:40:54.589961Z",
     "iopub.status.idle": "2022-04-27T15:40:54.595454Z",
     "shell.execute_reply": "2022-04-27T15:40:54.594766Z",
     "shell.execute_reply.started": "2022-04-27T15:40:54.590191Z"
    },
    "tags": []
   },
   "outputs": [
    {
     "data": {
      "text/plain": [
       "KNeighborsRegressor(n_neighbors=20)"
      ]
     },
     "execution_count": 222,
     "metadata": {},
     "output_type": "execute_result"
    }
   ],
   "source": [
    "model = KNeighborsRegressor(n_neighbors=20)\n",
    "model.fit(X,y)"
   ]
  },
  {
   "cell_type": "code",
   "execution_count": 223,
   "id": "00b0a5f4-6dc7-4a71-bc79-7cd01ee0a322",
   "metadata": {
    "execution": {
     "iopub.execute_input": "2022-04-27T15:40:54.871315Z",
     "iopub.status.busy": "2022-04-27T15:40:54.871057Z",
     "iopub.status.idle": "2022-04-27T15:40:54.875542Z",
     "shell.execute_reply": "2022-04-27T15:40:54.874628Z",
     "shell.execute_reply.started": "2022-04-27T15:40:54.871291Z"
    },
    "tags": []
   },
   "outputs": [],
   "source": [
    "Ty = model.predict(T)"
   ]
  },
  {
   "cell_type": "code",
   "execution_count": 224,
   "id": "64c9ffbe-dd74-4ebb-ac36-5c324fedda99",
   "metadata": {
    "execution": {
     "iopub.execute_input": "2022-04-27T15:40:55.162764Z",
     "iopub.status.busy": "2022-04-27T15:40:55.162511Z",
     "iopub.status.idle": "2022-04-27T15:40:55.166713Z",
     "shell.execute_reply": "2022-04-27T15:40:55.165987Z",
     "shell.execute_reply.started": "2022-04-27T15:40:55.162740Z"
    },
    "tags": []
   },
   "outputs": [],
   "source": [
    "dist, indx = model.kneighbors(T)"
   ]
  },
  {
   "cell_type": "code",
   "execution_count": 225,
   "id": "1f843708-44f6-420f-a171-c2fa340f9f69",
   "metadata": {
    "execution": {
     "iopub.execute_input": "2022-04-27T15:40:55.588172Z",
     "iopub.status.busy": "2022-04-27T15:40:55.587898Z",
     "iopub.status.idle": "2022-04-27T15:40:55.984674Z",
     "shell.execute_reply": "2022-04-27T15:40:55.984030Z",
     "shell.execute_reply.started": "2022-04-27T15:40:55.588147Z"
    },
    "tags": []
   },
   "outputs": [
    {
     "data": {
      "image/png": "[encoded data removed]",
      "text/plain": [
       "<Figure size 1440x720 with 2 Axes>"
      ]
     },
     "metadata": {
      "needs_background": "light"
     },
     "output_type": "display_data"
    }
   ],
   "source": [
    "ax = AC.createFigures(figsize=(20,10))\n",
    "ax.scatter(X,y, color=AC.specialPurple);\n",
    "ax.vlines(T, ymin=-1,ymax=1, color='k', alpha=0.2, linestyle='dashed')\n",
    "ax.set_xticks(np.arange(0,2*np.pi,0.5));\n",
    "ax.scatter(T,Ty, s=200, color=AC.specialRed, marker='*', label='New instance')\n",
    "scatter = ax.scatter(x=X[indx],y=y[indx], c=dist, marker='x', cmap='viridis', s=100);\n",
    "plt.colorbar(scatter, ax=ax)\n",
    "ax.legend(fontsize=15);"
   ]
  },
  {
   "cell_type": "code",
   "execution_count": 226,
   "id": "10233d2e-8e8f-46f9-99f1-b9045a287089",
   "metadata": {
    "execution": {
     "iopub.execute_input": "2022-04-27T15:40:58.084870Z",
     "iopub.status.busy": "2022-04-27T15:40:58.084396Z",
     "iopub.status.idle": "2022-04-27T15:40:58.092187Z",
     "shell.execute_reply": "2022-04-27T15:40:58.091408Z",
     "shell.execute_reply.started": "2022-04-27T15:40:58.084826Z"
    },
    "tags": []
   },
   "outputs": [
    {
     "data": {
      "text/plain": [
       "array([[0.99518939]])"
      ]
     },
     "execution_count": 226,
     "metadata": {},
     "output_type": "execute_result"
    }
   ],
   "source": [
    "model.predict(T)"
   ]
  },
  {
   "cell_type": "code",
   "execution_count": 227,
   "id": "9f43d047-ee2e-42dc-8c46-4470a76cbd86",
   "metadata": {
    "execution": {
     "iopub.execute_input": "2022-04-27T15:40:58.730418Z",
     "iopub.status.busy": "2022-04-27T15:40:58.730159Z",
     "iopub.status.idle": "2022-04-27T15:40:58.734927Z",
     "shell.execute_reply": "2022-04-27T15:40:58.734320Z",
     "shell.execute_reply.started": "2022-04-27T15:40:58.730394Z"
    },
    "tags": []
   },
   "outputs": [
    {
     "data": {
      "text/plain": [
       "0.9951893850071455"
      ]
     },
     "execution_count": 227,
     "metadata": {},
     "output_type": "execute_result"
    }
   ],
   "source": [
    "y[indx].mean()"
   ]
  },
  {
   "cell_type": "code",
   "execution_count": 228,
   "id": "18e3a175-7f31-4b48-a70e-313082e7c4a7",
   "metadata": {
    "execution": {
     "iopub.execute_input": "2022-04-27T15:44:00.363766Z",
     "iopub.status.busy": "2022-04-27T15:44:00.362687Z",
     "iopub.status.idle": "2022-04-27T15:44:00.373847Z",
     "shell.execute_reply": "2022-04-27T15:44:00.372853Z",
     "shell.execute_reply.started": "2022-04-27T15:44:00.363707Z"
    }
   },
   "outputs": [],
   "source": [
    "from sklearn.model_selection import train_test_split"
   ]
  },
  {
   "cell_type": "code",
   "execution_count": 231,
   "id": "3c29476e-3ab7-4a83-be0b-db3cebb467c3",
   "metadata": {
    "execution": {
     "iopub.execute_input": "2022-04-27T15:44:28.081084Z",
     "iopub.status.busy": "2022-04-27T15:44:28.080827Z",
     "iopub.status.idle": "2022-04-27T15:44:28.086995Z",
     "shell.execute_reply": "2022-04-27T15:44:28.086183Z",
     "shell.execute_reply.started": "2022-04-27T15:44:28.081063Z"
    },
    "tags": []
   },
   "outputs": [
    {
     "data": {
      "text/plain": [
       "(100, 1)"
      ]
     },
     "execution_count": 231,
     "metadata": {},
     "output_type": "execute_result"
    }
   ],
   "source": [
    "X.shape"
   ]
  },
  {
   "cell_type": "code",
   "execution_count": 238,
   "id": "e5a7d9b1-fbeb-464e-b9ef-3cf8e58dc252",
   "metadata": {
    "execution": {
     "iopub.execute_input": "2022-04-27T15:45:57.247876Z",
     "iopub.status.busy": "2022-04-27T15:45:57.247570Z",
     "iopub.status.idle": "2022-04-27T15:45:57.252815Z",
     "shell.execute_reply": "2022-04-27T15:45:57.251902Z",
     "shell.execute_reply.started": "2022-04-27T15:45:57.247844Z"
    },
    "tags": []
   },
   "outputs": [],
   "source": [
    "X1, X2, y1, y2 = train_test_split(X,y)"
   ]
  },
  {
   "cell_type": "code",
   "execution_count": 233,
   "id": "56d3355b-2a00-49fd-9760-311eb002fecd",
   "metadata": {
    "execution": {
     "iopub.execute_input": "2022-04-27T15:44:57.169718Z",
     "iopub.status.busy": "2022-04-27T15:44:57.169448Z",
     "iopub.status.idle": "2022-04-27T15:44:57.174535Z",
     "shell.execute_reply": "2022-04-27T15:44:57.173581Z",
     "shell.execute_reply.started": "2022-04-27T15:44:57.169696Z"
    }
   },
   "outputs": [
    {
     "data": {
      "text/plain": [
       "(75, 1)"
      ]
     },
     "execution_count": 233,
     "metadata": {},
     "output_type": "execute_result"
    }
   ],
   "source": [
    "X1.shape"
   ]
  },
  {
   "cell_type": "code",
   "execution_count": 237,
   "id": "30c4c098-0d76-4f4a-b4a4-5e789c8e9f91",
   "metadata": {
    "execution": {
     "iopub.execute_input": "2022-04-27T15:45:24.043484Z",
     "iopub.status.busy": "2022-04-27T15:45:24.043176Z",
     "iopub.status.idle": "2022-04-27T15:45:24.048588Z",
     "shell.execute_reply": "2022-04-27T15:45:24.048030Z",
     "shell.execute_reply.started": "2022-04-27T15:45:24.043457Z"
    },
    "tags": []
   },
   "outputs": [
    {
     "data": {
      "text/plain": [
       "(25, 1)"
      ]
     },
     "execution_count": 237,
     "metadata": {},
     "output_type": "execute_result"
    }
   ],
   "source": [
    "y2.shape"
   ]
  },
  {
   "cell_type": "markdown",
   "id": "439d09bc-cb98-4b2f-b224-a1b6cd58edb9",
   "metadata": {},
   "source": [
    "PAra que un algoritmo se clasifique como que aprenda este tiene que modificar parametros internos."
   ]
  },
  {
   "cell_type": "code",
   "execution_count": null,
   "id": "853868dd-e7f4-43fe-8736-c8ed9943bf60",
   "metadata": {},
   "outputs": [],
   "source": []
  }
 ],
 "metadata": {
  "kernelspec": {
   "display_name": "Python 3 (ipykernel)",
   "language": "python",
   "name": "python3"
  },
  "language_info": {
   "codemirror_mode": {
    "name": "ipython",
    "version": 3
   },
   "file_extension": ".py",
   "mimetype": "text/x-python",
   "name": "python",
   "nbconvert_exporter": "python",
   "pygments_lexer": "ipython3",
   "version": "3.10.2"
  }
 },
 "nbformat": 4,
 "nbformat_minor": 5
}
